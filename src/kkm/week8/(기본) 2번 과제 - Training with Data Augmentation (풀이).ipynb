{
 "cells": [
  {
   "cell_type": "markdown",
   "metadata": {
    "id": "-FdOxP8_-kGT"
   },
   "source": [
    "# 기본과제 2 : Data augmentation for Quickdraw datset\n",
    "\n",
    "\n",
    "\n"
   ]
  },
  {
   "cell_type": "markdown",
   "metadata": {
    "id": "EQpGCaVX-ry8"
   },
   "source": [
    "기본과제 2번에서는 Quickdraw dataset에 대한 성능을 높이기 위한 다양한 image data augmentation을 사용해보게 됩니다. Data augmentation은 diverse한 image 생성을 통해 overfitting 방지하거나, 일종의 interpolation을 통한 data distribution 공간을 보다 dense하게 만드는 효과를 내 학습을 쉽게 하는 등의 효과가 있습니다. 이 과제에서는 무작위로 augmentation을 적용하는 것 보다, 학습 dataset 특성에 맞는 다양한 augmentation을 적용해보고 그 효과를 평가해보는 것이 목표입니다."
   ]
  },
  {
   "cell_type": "markdown",
   "metadata": {
    "id": "E2koBPX1_T0b"
   },
   "source": [
    "## Quickdraw dataset\n",
    "아래 코드는 기본과제 1에서와 동일한 Quickdraw dataset의 준비 코드입니다. 다만, 이번 과제에서는 augmentation을 적용하기 위해 직접 transform을 정의하고, 해당 transformation을 torch.utils.data.Dataset class인 QuickDrawDataset에 직접 전달해주어야 하기 때문에, 해당 부분을 확인하실 수 있게 아래 코드로 독립시켜두었습니다."
   ]
  },
  {
   "cell_type": "code",
   "execution_count": 6,
   "metadata": {
    "colab": {
     "base_uri": "https://localhost:8080/"
    },
    "executionInfo": {
     "elapsed": 3798,
     "status": "ok",
     "timestamp": 1646715114146,
     "user": {
      "displayName": "이승현",
      "photoUrl": "https://lh3.googleusercontent.com/a-/AOh14Gj0gkQta1SjZsXPKgikHAblaDaNWlFcma5GqdvKug=s64",
      "userId": "00687945069250361923"
     },
     "user_tz": -540
    },
    "id": "XR1bH4WF6qBP",
    "outputId": "b9ffcd9b-d922-4946-d9c2-a9621b7d7f27"
   },
   "outputs": [
    {
     "name": "stdout",
     "output_type": "stream",
     "text": [
      "Requirement already satisfied: quickdraw in /opt/conda/lib/python3.8/site-packages (0.2.0)\n",
      "Requirement already satisfied: pillow in /opt/conda/lib/python3.8/site-packages (from quickdraw) (9.0.1)\n",
      "Requirement already satisfied: requests in /opt/conda/lib/python3.8/site-packages (from quickdraw) (2.27.1)\n",
      "Requirement already satisfied: idna<4,>=2.5 in /opt/conda/lib/python3.8/site-packages (from requests->quickdraw) (3.3)\n",
      "Requirement already satisfied: certifi>=2017.4.17 in /opt/conda/lib/python3.8/site-packages (from requests->quickdraw) (2021.10.8)\n",
      "Requirement already satisfied: charset-normalizer~=2.0.0 in /opt/conda/lib/python3.8/site-packages (from requests->quickdraw) (2.0.4)\n",
      "Requirement already satisfied: urllib3<1.27,>=1.21.1 in /opt/conda/lib/python3.8/site-packages (from requests->quickdraw) (1.26.8)\n",
      "\u001b[33mWARNING: Running pip as the 'root' user can result in broken permissions and conflicting behaviour with the system package manager. It is recommended to use a virtual environment instead: https://pip.pypa.io/warnings/venv\u001b[0m\n"
     ]
    }
   ],
   "source": [
    "!pip3 install quickdraw"
   ]
  },
  {
   "cell_type": "code",
   "execution_count": 7,
   "metadata": {
    "executionInfo": {
     "elapsed": 8111,
     "status": "ok",
     "timestamp": 1646715195949,
     "user": {
      "displayName": "이승현",
      "photoUrl": "https://lh3.googleusercontent.com/a-/AOh14Gj0gkQta1SjZsXPKgikHAblaDaNWlFcma5GqdvKug=s64",
      "userId": "00687945069250361923"
     },
     "user_tz": -540
    },
    "id": "04jAy3qh7Lpj"
   },
   "outputs": [],
   "source": [
    "from quickdraw import QuickDrawData, QuickDrawDataGroup\n",
    "import torch\n",
    "from torch.utils.data import Dataset, DataLoader\n",
    "from torchvision import transforms, utils\n",
    "import itertools\n",
    "import matplotlib.pyplot as plt\n",
    "import os\n",
    "import numpy as np\n",
    "import torch.nn as nn\n",
    "import albumentations\n",
    "import albumentations.pytorch\n",
    "import pandas as pd"
   ]
  },
  {
   "cell_type": "code",
   "execution_count": 8,
   "metadata": {
    "executionInfo": {
     "elapsed": 6,
     "status": "ok",
     "timestamp": 1646715195950,
     "user": {
      "displayName": "이승현",
      "photoUrl": "https://lh3.googleusercontent.com/a-/AOh14Gj0gkQta1SjZsXPKgikHAblaDaNWlFcma5GqdvKug=s64",
      "userId": "00687945069250361923"
     },
     "user_tz": -540
    },
    "id": "RVpsG6D7IXFq"
   },
   "outputs": [],
   "source": [
    "num_img_per_class = 3000\n",
    "qd = QuickDrawData(max_drawings=num_img_per_class)"
   ]
  },
  {
   "cell_type": "code",
   "execution_count": 9,
   "metadata": {
    "executionInfo": {
     "elapsed": 411,
     "status": "ok",
     "timestamp": 1646715199203,
     "user": {
      "displayName": "이승현",
      "photoUrl": "https://lh3.googleusercontent.com/a-/AOh14Gj0gkQta1SjZsXPKgikHAblaDaNWlFcma5GqdvKug=s64",
      "userId": "00687945069250361923"
     },
     "user_tz": -540
    },
    "id": "PGvx6OkPCcg9"
   },
   "outputs": [],
   "source": [
    "import random\n",
    "seed = 111\n",
    "\n",
    "torch.manual_seed(seed)\n",
    "torch.cuda.manual_seed(seed)\n",
    "torch.cuda.manual_seed_all(seed)  # if use multi-GPU\n",
    "torch.backends.cudnn.deterministic = True\n",
    "torch.backends.cudnn.benchmark = False\n",
    "np.random.seed(seed)\n",
    "random.seed(seed)"
   ]
  },
  {
   "cell_type": "code",
   "execution_count": 10,
   "metadata": {
    "executionInfo": {
     "elapsed": 5,
     "status": "ok",
     "timestamp": 1646715203597,
     "user": {
      "displayName": "이승현",
      "photoUrl": "https://lh3.googleusercontent.com/a-/AOh14Gj0gkQta1SjZsXPKgikHAblaDaNWlFcma5GqdvKug=s64",
      "userId": "00687945069250361923"
     },
     "user_tz": -540
    },
    "id": "GRk-2HBhBb99"
   },
   "outputs": [],
   "source": [
    "class_list = ['apple', 'wine bottle', 'spoon', 'rainbow', 'panda', 'hospital', 'scissors', 'toothpaste', 'baseball', 'hourglass']\n",
    "class_dict = {'apple' : 0, 'wine bottle' : 1, 'spoon' : 2, 'rainbow' : 3, 'panda': 4, 'hospital' : 5, 'scissors' : 6, 'toothpaste' : 7, 'baseball' : 8, 'hourglass' : 9}"
   ]
  },
  {
   "cell_type": "code",
   "execution_count": 11,
   "metadata": {
    "colab": {
     "base_uri": "https://localhost:8080/"
    },
    "executionInfo": {
     "elapsed": 7559,
     "status": "ok",
     "timestamp": 1646715211153,
     "user": {
      "displayName": "이승현",
      "photoUrl": "https://lh3.googleusercontent.com/a-/AOh14Gj0gkQta1SjZsXPKgikHAblaDaNWlFcma5GqdvKug=s64",
      "userId": "00687945069250361923"
     },
     "user_tz": -540
    },
    "id": "70K8gdG69UI0",
    "outputId": "2e5c0d82-d9af-4250-e959-60106e8fcc4d"
   },
   "outputs": [
    {
     "name": "stdout",
     "output_type": "stream",
     "text": [
      "loading apple drawings\n",
      "load complete\n",
      "loading wine bottle drawings\n",
      "load complete\n",
      "loading spoon drawings\n",
      "load complete\n",
      "loading rainbow drawings\n",
      "load complete\n",
      "loading panda drawings\n",
      "load complete\n",
      "loading hospital drawings\n",
      "load complete\n",
      "loading scissors drawings\n",
      "load complete\n",
      "loading toothpaste drawings\n",
      "load complete\n",
      "loading baseball drawings\n",
      "load complete\n",
      "loading hourglass drawings\n",
      "load complete\n"
     ]
    }
   ],
   "source": [
    "qd.load_drawings(class_list)"
   ]
  },
  {
   "cell_type": "code",
   "execution_count": 12,
   "metadata": {
    "colab": {
     "base_uri": "https://localhost:8080/"
    },
    "executionInfo": {
     "elapsed": 8545,
     "status": "ok",
     "timestamp": 1646715221175,
     "user": {
      "displayName": "이승현",
      "photoUrl": "https://lh3.googleusercontent.com/a-/AOh14Gj0gkQta1SjZsXPKgikHAblaDaNWlFcma5GqdvKug=s64",
      "userId": "00687945069250361923"
     },
     "user_tz": -540
    },
    "id": "0gqxlZUcCDXx",
    "outputId": "8ca1b160-5491-4507-df33-fdb23646569c"
   },
   "outputs": [
    {
     "name": "stdout",
     "output_type": "stream",
     "text": [
      "loading apple drawings\n",
      "load complete\n",
      "loading wine bottle drawings\n",
      "load complete\n",
      "loading spoon drawings\n",
      "load complete\n",
      "loading rainbow drawings\n",
      "load complete\n",
      "loading panda drawings\n",
      "load complete\n",
      "loading hospital drawings\n",
      "load complete\n",
      "loading scissors drawings\n",
      "load complete\n",
      "loading toothpaste drawings\n",
      "load complete\n",
      "loading baseball drawings\n",
      "load complete\n",
      "loading hourglass drawings\n",
      "load complete\n"
     ]
    }
   ],
   "source": [
    "train_data = list()\n",
    "val_data = list()\n",
    "train_label = list()\n",
    "val_label = list()\n",
    "for class_name in class_list:\n",
    "    qdgroup = QuickDrawDataGroup(class_name, max_drawings=num_img_per_class)\n",
    "    for i, img in enumerate(qdgroup.drawings):\n",
    "        if i < int(0.9 * num_img_per_class):\n",
    "            train_data.append(img.get_image())\n",
    "            train_label.append(class_dict[class_name])\n",
    "        else:\n",
    "            val_data.append(img.get_image())\n",
    "            val_label.append(class_dict[class_name])"
   ]
  },
  {
   "cell_type": "code",
   "execution_count": 13,
   "metadata": {
    "executionInfo": {
     "elapsed": 4,
     "status": "ok",
     "timestamp": 1646715226806,
     "user": {
      "displayName": "이승현",
      "photoUrl": "https://lh3.googleusercontent.com/a-/AOh14Gj0gkQta1SjZsXPKgikHAblaDaNWlFcma5GqdvKug=s64",
      "userId": "00687945069250361923"
     },
     "user_tz": -540
    },
    "id": "YmhkezJwDq4W"
   },
   "outputs": [],
   "source": [
    "# Misc\n",
    "\n",
    "class AverageMeter(object):\n",
    "    \"\"\"Computes and stores the average and current value\"\"\"\n",
    "    def __init__(self):\n",
    "        self.reset()\n",
    "\n",
    "    def reset(self):\n",
    "        self.val = 0\n",
    "        self.avg = 0\n",
    "        self.sum = 0\n",
    "        self.count = 0\n",
    "\n",
    "    def update(self, val, n=1):\n",
    "        self.val = val\n",
    "        self.sum += val * n\n",
    "        self.count += n\n",
    "        self.avg = self.sum / self.count"
   ]
  },
  {
   "cell_type": "markdown",
   "metadata": {
    "id": "FXZl8lZp_4CI"
   },
   "source": [
    "## Applying augmentations\n",
    "이제 아래 정의된 ***class QuickDrawDatset(Dataset)***를 생성하는 과정에서 직접 정의한 augmentation을 적용할 수 있게 해야합니다. 캠퍼 여러분이 수행하야 하는 과제 내용은 아래와 같습니다.\n",
    "\n",
    "- **TO DO (1-1)** : 다양한 패키지를 이용한 user-defined augmentation list를 적용해주세요. Image data augmentation을 위해 흔히 사용하는 패키지로는, *torchvision.transform*, *albumentation*, *imgaug*과 같은 패키지들이 있습니다. 다양한 패키지의 augmentation을 custom dataset에 직접 구현해보세요. 참고로, augmentation은 train dataset에만 적용하고 validation dataset에는 적용하지 않으시면 됩니다.\n",
    "\n",
    "- **Hint** : 과제 1의 baseline 코드는 *torchvision.transform*를 이용해 주어진 이미지를 학습에 사용하기 위해 (224, 224) 크기로 resize하고, numpy.ndarray에서 tensor로 변환하고 있습니다. 원활한 학습을 위해서는 augmentation을 적용한 이후 **Resize(), ToTensor()**와 같은 함수를 이용해 적절한 형태로 이미지를 변환해주어야 합니다."
   ]
  },
  {
   "cell_type": "code",
   "execution_count": 173,
   "metadata": {
    "executionInfo": {
     "elapsed": 2,
     "status": "ok",
     "timestamp": 1646715279437,
     "user": {
      "displayName": "이승현",
      "photoUrl": "https://lh3.googleusercontent.com/a-/AOh14Gj0gkQta1SjZsXPKgikHAblaDaNWlFcma5GqdvKug=s64",
      "userId": "00687945069250361923"
     },
     "user_tz": -540
    },
    "id": "veN_TBjQ-a-y"
   },
   "outputs": [],
   "source": [
    "\n",
    "class QuickDrawDataset(Dataset):\n",
    "\n",
    "    def __init__(self, data, labels, transform=None):\n",
    "        self.data = data\n",
    "        self.labels = labels\n",
    "        self.transform = transform\n",
    "\n",
    "    def __len__(self):\n",
    "        return len(self.data)\n",
    "\n",
    "    def __getitem__(self, idx):\n",
    "        img = self.data[idx]\n",
    "#         img = img.detach().cpu().numpy()\n",
    "#         img = cv2.imread(img)\n",
    "#         img = cv2.cvtColor(img, cv2.COLOR_BGR2RGB)\n",
    "        \n",
    "        label = self.labels[idx]\n",
    "        \n",
    "        if self.transform == transform_a:\n",
    "            img = np.array(img)\n",
    "            transformed = self.transform(image=img)\n",
    "            img = transformed[\"image\"]\n",
    "        \n",
    "        elif self.transform == transform_val:\n",
    "            img = self.transform(img)\n",
    "            \n",
    "        return img, label"
   ]
  },
  {
   "cell_type": "code",
   "execution_count": 174,
   "metadata": {
    "executionInfo": {
     "elapsed": 3,
     "status": "ok",
     "timestamp": 1646715397945,
     "user": {
      "displayName": "이승현",
      "photoUrl": "https://lh3.googleusercontent.com/a-/AOh14Gj0gkQta1SjZsXPKgikHAblaDaNWlFcma5GqdvKug=s64",
      "userId": "00687945069250361923"
     },
     "user_tz": -540
    },
    "id": "qWlwyIkE4qTl"
   },
   "outputs": [],
   "source": [
    "from PIL import Image"
   ]
  },
  {
   "cell_type": "code",
   "execution_count": 175,
   "metadata": {
    "colab": {
     "base_uri": "https://localhost:8080/",
     "height": 290
    },
    "executionInfo": {
     "elapsed": 471,
     "status": "ok",
     "timestamp": 1646715508921,
     "user": {
      "displayName": "이승현",
      "photoUrl": "https://lh3.googleusercontent.com/a-/AOh14Gj0gkQta1SjZsXPKgikHAblaDaNWlFcma5GqdvKug=s64",
      "userId": "00687945069250361923"
     },
     "user_tz": -540
    },
    "id": "1ybmcgTQ4Wwc",
    "outputId": "d820316f-5cdc-4030-a8a8-0c754aa9a267"
   },
   "outputs": [
    {
     "name": "stdout",
     "output_type": "stream",
     "text": [
      "hospital\n"
     ]
    },
    {
     "data": {
      "image/png": "[encoded data removed]",
      "text/plain": [
       "<PIL.Image.Image image mode=RGB size=255x255 at 0x7F478BBE0370>"
      ]
     },
     "execution_count": 175,
     "metadata": {},
     "output_type": "execute_result"
    }
   ],
   "source": [
    "rand_index = random.randint(0, len(train_data))\n",
    "print(class_list[train_label[rand_index]])\n",
    "train_data[rand_index]\n"
   ]
  },
  {
   "cell_type": "code",
   "execution_count": 176,
   "metadata": {
    "executionInfo": {
     "elapsed": 527,
     "status": "ok",
     "timestamp": 1646717098733,
     "user": {
      "displayName": "이승현",
      "photoUrl": "https://lh3.googleusercontent.com/a-/AOh14Gj0gkQta1SjZsXPKgikHAblaDaNWlFcma5GqdvKug=s64",
      "userId": "00687945069250361923"
     },
     "user_tz": -540
    },
    "id": "GOuZir1wI_Jd"
   },
   "outputs": [],
   "source": [
    "# TO DO (1-1) starts here\n",
    "# Fill empty parts with proper code\n",
    "\n",
    "# transform = transforms.Compose([\n",
    "#     transforms.Resize((224,224)),\n",
    "#     transforms.RandomHorizontalFlip(p=0.5),\n",
    "#     transforms.RandomRotation(10),\n",
    "#     # transforms.RandomAffine(degrees=(-1,1), scale=(-0.02,0.02), shear=(-0.02,0.02)),\n",
    "#     transforms.ToTensor(),\n",
    "# ])\n",
    "\n",
    "transform_a = albumentations.Compose([\n",
    "    albumentations.Resize(224,224),\n",
    "    albumentations.Flip(p=0.5),\n",
    "    albumentations.GridDistortion(),\n",
    "    albumentations.GaussNoise(),\n",
    "#     albumentations.RandomRain(p=1),\n",
    "    albumentations.pytorch.transforms.ToTensorV2()\n",
    "#     transform.ToTensor()\n",
    "])\n",
    "\n"
   ]
  },
  {
   "cell_type": "code",
   "execution_count": 177,
   "metadata": {
    "executionInfo": {
     "elapsed": 4,
     "status": "ok",
     "timestamp": 1646717098734,
     "user": {
      "displayName": "이승현",
      "photoUrl": "https://lh3.googleusercontent.com/a-/AOh14Gj0gkQta1SjZsXPKgikHAblaDaNWlFcma5GqdvKug=s64",
      "userId": "00687945069250361923"
     },
     "user_tz": -540
    },
    "id": "7nT-0VJpaMVs"
   },
   "outputs": [],
   "source": [
    "transform_val = transforms.Compose([\n",
    "    transforms.Resize((224,224)),\n",
    "    transforms.ToTensor(),\n",
    "])\n",
    "# TO DO (1-1) ends here"
   ]
  },
  {
   "cell_type": "code",
   "execution_count": 180,
   "metadata": {
    "executionInfo": {
     "elapsed": 7,
     "status": "ok",
     "timestamp": 1646717099243,
     "user": {
      "displayName": "이승현",
      "photoUrl": "https://lh3.googleusercontent.com/a-/AOh14Gj0gkQta1SjZsXPKgikHAblaDaNWlFcma5GqdvKug=s64",
      "userId": "00687945069250361923"
     },
     "user_tz": -540
    },
    "id": "T6ooe0ZYAIgP"
   },
   "outputs": [],
   "source": [
    "qd_train_dataset = QuickDrawDataset(train_data, train_label, transform_a)\n",
    "qd_val_dataset = QuickDrawDataset(val_data, val_label, transform_val)\n",
    "\n",
    "qd_train_dataloader = DataLoader(qd_train_dataset, batch_size=64, shuffle=True)\n",
    "qd_val_dataloader = DataLoader(qd_val_dataset, batch_size=64, shuffle=True)"
   ]
  },
  {
   "cell_type": "markdown",
   "metadata": {
    "id": "x6CzndznBhwV"
   },
   "source": [
    "## Visualizing augmentated images\n",
    "다양한 augmentation을 적용한 이후에는, 원하는 augmentation이 잘 적용되고 있는지 확인해보는 과정이 필수적입니다. Augmentation 뿐만 아니라, Computer Vision의 다양한 모델들을 구현할 때는 모델의 input, output image나 중간 feature map을 시각화해보는 것이 아주 중요합니다. 이를 통해, 사소한 실수를 방지할 수 있을 뿐 아니라, loss로는 파악하기 힘든 모델의 성능 및 강점/약점을 파악할 수 있기 때문입니다.\n",
    "\n",
    "따라서, 이번에는 augmentation이 잘 적용되었는지 확인해보는 코드를 작성해야 합니다. \n",
    "\n",
    "- **TO DO (2-1)** : 직접 정의한 augmentation을 사용하느 qd_train_dataloader와 augmentation을 사용하지 않는 qd_val_dataloader의 이미지들을 직접 확인할 수 있는 코드를 작성해주세요.\n",
    "- **Hint 1** : *iter(), next()* 함수를 이용하면 dataloader에서 image 및 label을 반복적으로 추출할 수 있습니다. \n",
    "- **Hint 2** : 이미지의 channel order를 고려해야 합니다. cv2의 경우는 default channel order가 BGR인데 반해, PyTorch에서는 일반적으로 RGB order로 학습을 진행하는 경우가 많습니다. Quickdraw dataset의 경우 흑백 이미지라서 차이를 고려하지 않아도 괜찮지만, 컬러 이미지의 경우 이러한 차이가 큰 문제로 이어질 수 있습니다. 가령, RGB 이미지로 학습을 진행하고 *cv2.imread()*로 이미지를 불러와 그대로 model에 넣어주는 경우 모델이 아주 낮은 성능을 기록할 수 있습니다.\n",
    "- **Hint 3** : 각 dimension이 무엇을 나타내는지도 고려해야 합니다. cv2는 (height, width, channel) 순서로 이미지를 처리하지만, torch의 *conv2d* layer의 경우 (batch, channel, height, width) 순서의 tensor를 입력받습니다. 따라서, *permute()* 같은 함수를 통해 channel 순서를 바꿔주거나, *torch.squeeze(), torch.unsqueeze(), np.newaxis()*등을 dummy batch dimension을 생성/제거해주는 경우도 많이 있습니다.\n",
    "- **Hint 4** : 아직 이미지를 GPU에 올리지 않아 해당되지 않는 사항이지만, GPU에 올라간 이미지는 바로 *.cpu()*와 같은 함수를 통해 cpu에 올린 이후 ndarray로 변환해야 하는 경우도 있습니다. 또, gradient가 계산되는 경우는 *.detach()*와 같은 함수를 사용해야 할 수도 있습니다.\n",
    "\n",
    "이미지를 확인해보기 위해 위 힌트들이 모두 필요할 수도, 아닐 수도 있습니다. 본인이 augmentation을 구현한 방법을 잘 고려해서 본인의 방식대로 이미지를 확인해보면 됩니다. 다만, 위 힌트들은 일반적으로 확인해야 하는 경우가 많기 때문에 관련 내용을 확인해보시는 것을 추천드립니다."
   ]
  },
  {
   "cell_type": "code",
   "execution_count": 181,
   "metadata": {
    "colab": {
     "base_uri": "https://localhost:8080/"
    },
    "executionInfo": {
     "elapsed": 6,
     "status": "ok",
     "timestamp": 1646717099243,
     "user": {
      "displayName": "이승현",
      "photoUrl": "https://lh3.googleusercontent.com/a-/AOh14Gj0gkQta1SjZsXPKgikHAblaDaNWlFcma5GqdvKug=s64",
      "userId": "00687945069250361923"
     },
     "user_tz": -540
    },
    "id": "26i_g0vQ-wuK",
    "outputId": "438c9df6-89a4-4663-f2a9-51b196fc58a6"
   },
   "outputs": [
    {
     "data": {
      "text/plain": [
       "torch.Size([3, 224, 224])"
      ]
     },
     "execution_count": 181,
     "metadata": {},
     "output_type": "execute_result"
    }
   ],
   "source": [
    "# TO DO (2-1) starts here\n",
    "# Fill empty parts with proper code\n",
    "img, label = next(iter(qd_train_dataloader))\n",
    "img[0].shape\n",
    "\n"
   ]
  },
  {
   "cell_type": "code",
   "execution_count": 182,
   "metadata": {
    "executionInfo": {
     "elapsed": 4,
     "status": "ok",
     "timestamp": 1646717099244,
     "user": {
      "displayName": "이승현",
      "photoUrl": "https://lh3.googleusercontent.com/a-/AOh14Gj0gkQta1SjZsXPKgikHAblaDaNWlFcma5GqdvKug=s64",
      "userId": "00687945069250361923"
     },
     "user_tz": -540
    },
    "id": "WmM_oO-wTJiP"
   },
   "outputs": [],
   "source": [
    "import cv2\n",
    "import copy\n",
    "import matplotlib.pyplot as plt"
   ]
  },
  {
   "cell_type": "code",
   "execution_count": 183,
   "metadata": {
    "colab": {
     "base_uri": "https://localhost:8080/",
     "height": 304
    },
    "executionInfo": {
     "elapsed": 599,
     "status": "ok",
     "timestamp": 1646717100234,
     "user": {
      "displayName": "이승현",
      "photoUrl": "https://lh3.googleusercontent.com/a-/AOh14Gj0gkQta1SjZsXPKgikHAblaDaNWlFcma5GqdvKug=s64",
      "userId": "00687945069250361923"
     },
     "user_tz": -540
    },
    "id": "1r2N04b67tWU",
    "outputId": "142983eb-95d1-41ac-dcee-6d236cecc2dc"
   },
   "outputs": [
    {
     "name": "stdout",
     "output_type": "stream",
     "text": [
      "panda\n"
     ]
    },
    {
     "data": {
      "text/plain": [
       "<matplotlib.image.AxesImage at 0x7f47897dfd00>"
      ]
     },
     "execution_count": 183,
     "metadata": {},
     "output_type": "execute_result"
    },
    {
     "data": {
      "image/png": "[encoded data removed]",
      "text/plain": [
       "<Figure size 432x288 with 1 Axes>"
      ]
     },
     "metadata": {
      "needs_background": "light"
     },
     "output_type": "display_data"
    }
   ],
   "source": [
    "idx = 1\n",
    "print(class_list[label[idx].item()])\n",
    "plt.imshow(img[idx].permute(1,2,0))"
   ]
  },
  {
   "cell_type": "code",
   "execution_count": 184,
   "metadata": {
    "colab": {
     "base_uri": "https://localhost:8080/",
     "height": 287
    },
    "executionInfo": {
     "elapsed": 506,
     "status": "ok",
     "timestamp": 1646717119737,
     "user": {
      "displayName": "이승현",
      "photoUrl": "https://lh3.googleusercontent.com/a-/AOh14Gj0gkQta1SjZsXPKgikHAblaDaNWlFcma5GqdvKug=s64",
      "userId": "00687945069250361923"
     },
     "user_tz": -540
    },
    "id": "ej376Vfy-84f",
    "outputId": "b470cc40-d973-44ea-928b-e01555f33c48"
   },
   "outputs": [
    {
     "name": "stdout",
     "output_type": "stream",
     "text": [
      "spoon\n"
     ]
    },
    {
     "data": {
      "image/png": "[encoded data removed]",
      "text/plain": [
       "<Figure size 432x288 with 1 Axes>"
      ]
     },
     "metadata": {
      "needs_background": "light"
     },
     "output_type": "display_data"
    }
   ],
   "source": [
    "visualized_img = img[10].detach().cpu().numpy()\n",
    "visualized_img = np.transpose(visualized_img, (1,2,0))\n",
    "visualized_img = cv2.cvtColor(visualized_img,cv2.COLOR_BGR2RGB)\n",
    "# visualized_img = visualized_img.astype(np.uint8).copy()\n",
    "# TO DO (2-1) ends here\n",
    "print(class_list[label[10]])\n",
    "plt.imshow(visualized_img)\n",
    "plt.show()"
   ]
  },
  {
   "cell_type": "markdown",
   "metadata": {
    "id": "f-M2Mcd5FJWZ"
   },
   "source": [
    "## Training VGG-11 with augmented images\n",
    "이제 augmentation을 적용한 이미지들을 이용해 VGG-11 model을 다시 학습해봅니다. Augmetation을 적용한 경우와 그렇지 않은 경우, 학습이 어떻게 진행되는지 확인해보세요. 단순히 augmentation을 이것저것 적용해보면서 그 중 loss가 가장 낮게 나온 것을 고르는 것 보다는 결과가 좋아졌다면 왜 좋아졌는지, 나빠졌다면 왜 나빠졌는지 나름의 이유를 고민해보시는 것이 중요합니다. 또, 필요한 경우에 loss 그래프만 보는 것 대신 위에서 해본 것 처럼 model의 output을 직접 확인해보면서, 어떤 경우에 model이 더 좋아지거나 나빠졌는지 확인해보세요."
   ]
  },
  {
   "cell_type": "code",
   "execution_count": 185,
   "metadata": {
    "colab": {
     "base_uri": "https://localhost:8080/",
     "height": 692,
     "referenced_widgets": [
      "5b56191948f140a0a6c57a349f731bd1",
      "fa8268b80e9e4cacacd8a77eb282f30a",
      "363b7ac9ccf64f9fbfc4b89efdd9b6a6",
      "4e2f8e6489b948d69c2a282b97fc12d7",
      "ff3164a18dbd47f5bbd5557a40b944c3",
      "22a2f70dcd9449038917731ebd5a8df6",
      "2209f21064044ea3a5fcd9f4a4e85627",
      "bbcafac8387148ebb12543a1c4d23307",
      "2befef594131489694fa6b4551f51258",
      "ef5d99f43e0d432d928e09e262b57a52",
      "baa4ba1979284471a81b2f7eb0ddaa0d"
     ]
    },
    "executionInfo": {
     "elapsed": 36531,
     "status": "ok",
     "timestamp": 1646717188456,
     "user": {
      "displayName": "이승현",
      "photoUrl": "https://lh3.googleusercontent.com/a-/AOh14Gj0gkQta1SjZsXPKgikHAblaDaNWlFcma5GqdvKug=s64",
      "userId": "00687945069250361923"
     },
     "user_tz": -540
    },
    "id": "UMqSkZF9ERRR",
    "outputId": "8b052bd1-883c-4024-83ad-72b6c1114f47"
   },
   "outputs": [
    {
     "data": {
      "text/plain": [
       "VGG(\n",
       "  (features): Sequential(\n",
       "    (0): Conv2d(3, 64, kernel_size=(3, 3), stride=(1, 1), padding=(1, 1))\n",
       "    (1): ReLU(inplace=True)\n",
       "    (2): MaxPool2d(kernel_size=2, stride=2, padding=0, dilation=1, ceil_mode=False)\n",
       "    (3): Conv2d(64, 128, kernel_size=(3, 3), stride=(1, 1), padding=(1, 1))\n",
       "    (4): ReLU(inplace=True)\n",
       "    (5): MaxPool2d(kernel_size=2, stride=2, padding=0, dilation=1, ceil_mode=False)\n",
       "    (6): Conv2d(128, 256, kernel_size=(3, 3), stride=(1, 1), padding=(1, 1))\n",
       "    (7): ReLU(inplace=True)\n",
       "    (8): Conv2d(256, 256, kernel_size=(3, 3), stride=(1, 1), padding=(1, 1))\n",
       "    (9): ReLU(inplace=True)\n",
       "    (10): MaxPool2d(kernel_size=2, stride=2, padding=0, dilation=1, ceil_mode=False)\n",
       "    (11): Conv2d(256, 512, kernel_size=(3, 3), stride=(1, 1), padding=(1, 1))\n",
       "    (12): ReLU(inplace=True)\n",
       "    (13): Conv2d(512, 512, kernel_size=(3, 3), stride=(1, 1), padding=(1, 1))\n",
       "    (14): ReLU(inplace=True)\n",
       "    (15): MaxPool2d(kernel_size=2, stride=2, padding=0, dilation=1, ceil_mode=False)\n",
       "    (16): Conv2d(512, 512, kernel_size=(3, 3), stride=(1, 1), padding=(1, 1))\n",
       "    (17): ReLU(inplace=True)\n",
       "    (18): Conv2d(512, 512, kernel_size=(3, 3), stride=(1, 1), padding=(1, 1))\n",
       "    (19): ReLU(inplace=True)\n",
       "    (20): MaxPool2d(kernel_size=2, stride=2, padding=0, dilation=1, ceil_mode=False)\n",
       "  )\n",
       "  (avgpool): AdaptiveAvgPool2d(output_size=(7, 7))\n",
       "  (classifier): Sequential(\n",
       "    (0): Linear(in_features=25088, out_features=4096, bias=True)\n",
       "    (1): ReLU(inplace=True)\n",
       "    (2): Dropout(p=0.5, inplace=False)\n",
       "    (3): Linear(in_features=4096, out_features=4096, bias=True)\n",
       "    (4): ReLU(inplace=True)\n",
       "    (5): Dropout(p=0.5, inplace=False)\n",
       "    (6): Linear(in_features=4096, out_features=10, bias=True)\n",
       "  )\n",
       ")"
      ]
     },
     "execution_count": 185,
     "metadata": {},
     "output_type": "execute_result"
    }
   ],
   "source": [
    "from torchvision.models import vgg11\n",
    "\n",
    "pretrained = True # True of False\n",
    "\n",
    "model = vgg11(pretrained)\n",
    "model.classifier[6] = nn.Linear(in_features=4096, out_features=10, bias=True)\n",
    "model.cuda()\n",
    "\n",
    "# Freeze the feature extracting convolution layers"
   ]
  },
  {
   "cell_type": "code",
   "execution_count": 186,
   "metadata": {
    "executionInfo": {
     "elapsed": 462,
     "status": "ok",
     "timestamp": 1646717199242,
     "user": {
      "displayName": "이승현",
      "photoUrl": "https://lh3.googleusercontent.com/a-/AOh14Gj0gkQta1SjZsXPKgikHAblaDaNWlFcma5GqdvKug=s64",
      "userId": "00687945069250361923"
     },
     "user_tz": -540
    },
    "id": "CKZTQB1kH1Dh"
   },
   "outputs": [],
   "source": [
    "log_dir ='./log'"
   ]
  },
  {
   "cell_type": "code",
   "execution_count": 187,
   "metadata": {
    "executionInfo": {
     "elapsed": 2,
     "status": "ok",
     "timestamp": 1646717202617,
     "user": {
      "displayName": "이승현",
      "photoUrl": "https://lh3.googleusercontent.com/a-/AOh14Gj0gkQta1SjZsXPKgikHAblaDaNWlFcma5GqdvKug=s64",
      "userId": "00687945069250361923"
     },
     "user_tz": -540
    },
    "id": "f9WrU6AfVdyi"
   },
   "outputs": [],
   "source": [
    "# Loss function and Optimizer\n",
    "from torch.optim import Adam\n",
    "\n",
    "criterion = nn.CrossEntropyLoss()\n",
    "optimizer_ft = Adam(model.parameters(), lr=1e-4)"
   ]
  },
  {
   "cell_type": "code",
   "execution_count": 188,
   "metadata": {
    "executionInfo": {
     "elapsed": 472,
     "status": "ok",
     "timestamp": 1646717205178,
     "user": {
      "displayName": "이승현",
      "photoUrl": "https://lh3.googleusercontent.com/a-/AOh14Gj0gkQta1SjZsXPKgikHAblaDaNWlFcma5GqdvKug=s64",
      "userId": "00687945069250361923"
     },
     "user_tz": -540
    },
    "id": "a6nGW06DXvmr"
   },
   "outputs": [],
   "source": [
    "from tqdm import tqdm"
   ]
  },
  {
   "cell_type": "code",
   "execution_count": null,
   "metadata": {
    "colab": {
     "base_uri": "https://localhost:8080/"
    },
    "id": "zA8Kwg4MHfjE",
    "outputId": "ed6a744a-456e-421b-ef1d-fedc94aa7dc8"
   },
   "outputs": [
    {
     "name": "stderr",
     "output_type": "stream",
     "text": [
      "  0%|          | 1/422 [00:52<6:11:49, 52.99s/it]"
     ]
    },
    {
     "name": "stdout",
     "output_type": "stream",
     "text": [
      "Iter [  0/422] | Train Loss 16.8935 | Train Acc 0.1094 | Valid Loss 2.3164 | Valid Acc 0.1467\n"
     ]
    },
    {
     "name": "stderr",
     "output_type": "stream",
     "text": [
      "  5%|▍         | 21/422 [02:02<1:52:58, 16.90s/it]"
     ]
    },
    {
     "name": "stdout",
     "output_type": "stream",
     "text": [
      "Iter [ 20/422] | Train Loss 1.4483 | Train Acc 0.5938 | Valid Loss 2.2896 | Valid Acc 0.1253\n"
     ]
    },
    {
     "name": "stderr",
     "output_type": "stream",
     "text": [
      " 10%|▉         | 41/422 [03:07<1:40:46, 15.87s/it]"
     ]
    },
    {
     "name": "stdout",
     "output_type": "stream",
     "text": [
      "Iter [ 40/422] | Train Loss 0.7651 | Train Acc 0.7031 | Valid Loss 2.2842 | Valid Acc 0.1243\n"
     ]
    },
    {
     "name": "stderr",
     "output_type": "stream",
     "text": [
      " 14%|█▍        | 61/422 [04:17<1:40:31, 16.71s/it]"
     ]
    },
    {
     "name": "stdout",
     "output_type": "stream",
     "text": [
      "Iter [ 60/422] | Train Loss 0.5673 | Train Acc 0.8125 | Valid Loss 2.2679 | Valid Acc 0.1500\n"
     ]
    },
    {
     "name": "stderr",
     "output_type": "stream",
     "text": [
      " 19%|█▉        | 81/422 [05:26<1:35:51, 16.87s/it]"
     ]
    },
    {
     "name": "stdout",
     "output_type": "stream",
     "text": [
      "Iter [ 80/422] | Train Loss 0.5886 | Train Acc 0.8281 | Valid Loss 2.2582 | Valid Acc 0.2527\n"
     ]
    },
    {
     "name": "stderr",
     "output_type": "stream",
     "text": [
      " 24%|██▍       | 101/422 [06:34<1:29:15, 16.68s/it]"
     ]
    },
    {
     "name": "stdout",
     "output_type": "stream",
     "text": [
      "Iter [100/422] | Train Loss 0.5477 | Train Acc 0.8594 | Valid Loss 2.2494 | Valid Acc 0.2657\n"
     ]
    },
    {
     "name": "stderr",
     "output_type": "stream",
     "text": [
      " 29%|██▊       | 121/422 [07:41<1:23:59, 16.74s/it]"
     ]
    },
    {
     "name": "stdout",
     "output_type": "stream",
     "text": [
      "Iter [120/422] | Train Loss 0.8662 | Train Acc 0.7188 | Valid Loss 2.2406 | Valid Acc 0.2677\n"
     ]
    },
    {
     "name": "stderr",
     "output_type": "stream",
     "text": [
      " 33%|███▎      | 141/422 [08:49<1:18:43, 16.81s/it]"
     ]
    },
    {
     "name": "stdout",
     "output_type": "stream",
     "text": [
      "Iter [140/422] | Train Loss 0.5971 | Train Acc 0.8125 | Valid Loss 2.2170 | Valid Acc 0.3337\n"
     ]
    },
    {
     "name": "stderr",
     "output_type": "stream",
     "text": [
      " 38%|███▊      | 161/422 [09:55<1:10:12, 16.14s/it]"
     ]
    },
    {
     "name": "stdout",
     "output_type": "stream",
     "text": [
      "Iter [160/422] | Train Loss 0.5348 | Train Acc 0.8281 | Valid Loss 2.2015 | Valid Acc 0.3267\n"
     ]
    },
    {
     "name": "stderr",
     "output_type": "stream",
     "text": [
      " 43%|████▎     | 181/422 [11:00<1:04:30, 16.06s/it]"
     ]
    },
    {
     "name": "stdout",
     "output_type": "stream",
     "text": [
      "Iter [180/422] | Train Loss 0.3186 | Train Acc 0.8750 | Valid Loss 2.1946 | Valid Acc 0.3240\n"
     ]
    },
    {
     "name": "stderr",
     "output_type": "stream",
     "text": [
      " 48%|████▊     | 201/422 [12:05<58:42, 15.94s/it]  "
     ]
    },
    {
     "name": "stdout",
     "output_type": "stream",
     "text": [
      "Iter [200/422] | Train Loss 0.3632 | Train Acc 0.9062 | Valid Loss 2.1774 | Valid Acc 0.3550\n"
     ]
    },
    {
     "name": "stderr",
     "output_type": "stream",
     "text": [
      " 52%|█████▏    | 221/422 [13:15<56:04, 16.74s/it]"
     ]
    },
    {
     "name": "stdout",
     "output_type": "stream",
     "text": [
      "Iter [220/422] | Train Loss 0.6892 | Train Acc 0.7500 | Valid Loss 2.1731 | Valid Acc 0.3287\n"
     ]
    },
    {
     "name": "stderr",
     "output_type": "stream",
     "text": [
      " 57%|█████▋    | 241/422 [14:20<48:22, 16.03s/it]"
     ]
    },
    {
     "name": "stdout",
     "output_type": "stream",
     "text": [
      "Iter [240/422] | Train Loss 0.6335 | Train Acc 0.8125 | Valid Loss 2.1891 | Valid Acc 0.3377\n"
     ]
    },
    {
     "name": "stderr",
     "output_type": "stream",
     "text": [
      " 62%|██████▏   | 261/422 [15:29<46:27, 17.31s/it]"
     ]
    },
    {
     "name": "stdout",
     "output_type": "stream",
     "text": [
      "Iter [260/422] | Train Loss 0.4121 | Train Acc 0.8594 | Valid Loss 2.1755 | Valid Acc 0.2577\n"
     ]
    },
    {
     "name": "stderr",
     "output_type": "stream",
     "text": [
      " 67%|██████▋   | 281/422 [16:39<40:09, 17.09s/it]"
     ]
    },
    {
     "name": "stdout",
     "output_type": "stream",
     "text": [
      "Iter [280/422] | Train Loss 0.2051 | Train Acc 0.9375 | Valid Loss 2.1807 | Valid Acc 0.3097\n"
     ]
    },
    {
     "name": "stderr",
     "output_type": "stream",
     "text": [
      " 71%|███████▏  | 301/422 [17:48<34:52, 17.30s/it]"
     ]
    },
    {
     "name": "stdout",
     "output_type": "stream",
     "text": [
      "Iter [300/422] | Train Loss 0.3501 | Train Acc 0.9062 | Valid Loss 2.1874 | Valid Acc 0.3023\n"
     ]
    },
    {
     "name": "stderr",
     "output_type": "stream",
     "text": [
      " 76%|███████▌  | 321/422 [18:55<27:21, 16.26s/it]"
     ]
    },
    {
     "name": "stdout",
     "output_type": "stream",
     "text": [
      "Iter [320/422] | Train Loss 0.6959 | Train Acc 0.8125 | Valid Loss 2.1857 | Valid Acc 0.3097\n"
     ]
    },
    {
     "name": "stderr",
     "output_type": "stream",
     "text": [
      " 81%|████████  | 341/422 [19:58<20:51, 15.45s/it]"
     ]
    },
    {
     "name": "stdout",
     "output_type": "stream",
     "text": [
      "Iter [340/422] | Train Loss 0.4256 | Train Acc 0.8906 | Valid Loss 2.1607 | Valid Acc 0.3637\n"
     ]
    },
    {
     "name": "stderr",
     "output_type": "stream",
     "text": [
      " 86%|████████▌ | 361/422 [21:07<16:39, 16.38s/it]"
     ]
    },
    {
     "name": "stdout",
     "output_type": "stream",
     "text": [
      "Iter [360/422] | Train Loss 0.3166 | Train Acc 0.9062 | Valid Loss 2.1763 | Valid Acc 0.3733\n"
     ]
    },
    {
     "name": "stderr",
     "output_type": "stream",
     "text": [
      " 90%|█████████ | 381/422 [22:14<11:09, 16.33s/it]"
     ]
    },
    {
     "name": "stdout",
     "output_type": "stream",
     "text": [
      "Iter [380/422] | Train Loss 0.2350 | Train Acc 0.9219 | Valid Loss 2.1495 | Valid Acc 0.3910\n"
     ]
    },
    {
     "name": "stderr",
     "output_type": "stream",
     "text": [
      " 95%|█████████▌| 401/422 [23:22<05:48, 16.61s/it]"
     ]
    },
    {
     "name": "stdout",
     "output_type": "stream",
     "text": [
      "Iter [400/422] | Train Loss 0.4016 | Train Acc 0.8594 | Valid Loss 2.1252 | Valid Acc 0.3787\n"
     ]
    },
    {
     "name": "stderr",
     "output_type": "stream",
     "text": [
      "100%|█████████▉| 421/422 [24:28<00:16, 16.19s/it]"
     ]
    },
    {
     "name": "stdout",
     "output_type": "stream",
     "text": [
      "Iter [420/422] | Train Loss 0.2910 | Train Acc 0.8594 | Valid Loss 2.1578 | Valid Acc 0.3790\n"
     ]
    }
   ],
   "source": [
    "# Main\n",
    "os.makedirs(log_dir, exist_ok=True)\n",
    "\n",
    "with open(os.path.join(log_dir, 'augmentation_train_log.csv'), 'w') as log:\n",
    "  # Training\n",
    "    model.train()\n",
    "    for iteration, data in enumerate(tqdm(qd_train_dataloader)):\n",
    "        img, label = data[0],data[1]\n",
    "        # optimizer에 저장된 미분값을 0으로 초기화\n",
    "        optimizer_ft.zero_grad()\n",
    "\n",
    "        # GPU 연산을 위해 이미지와 정답 tensor를 GPU로 보내기 (필요한 경우, 변수의 type도 수정해주세요)\n",
    "        img, label = img.float().cuda(), label.long().cuda()\n",
    "\n",
    "        # 모델에 이미지 forward\n",
    "        pred_logit = model(img)\n",
    "\n",
    "        # loss 값 계산\n",
    "        loss = criterion(pred_logit, label)\n",
    "\n",
    "        # Backpropagation\n",
    "        loss.backward()\n",
    "        optimizer_ft.step()\n",
    "\n",
    "        # Accuracy 계산\n",
    "        pred_label = torch.argmax(pred_logit, 1)\n",
    "        acc = (pred_label == label).sum().item() / len(img) #.item() 토치를 인트로 바꿔줌\n",
    "\n",
    "        train_loss = loss.item()\n",
    "        train_acc = acc\n",
    "\n",
    "    # Validation for every 20 epoch ### -> epoch이 아니라 loader에서 배치단위로 가져오는 횟수를 의미하는 것은 아닌지?\n",
    "        if (iteration % 20 == 0) or (iteration == len(qd_train_dataloader)-1):\n",
    "            model.eval()\n",
    "            valid_loss, valid_acc = AverageMeter(), AverageMeter()\n",
    "\n",
    "            for img, label in qd_val_dataloader:\n",
    "            # GPU 연산을 위해 이미지와 정답 tensor를 GPU로 보내기 (필요한 경우, 변수의 type도 수정해주세요)\n",
    "                img, label = img.float().cuda(), label.long().cuda()\n",
    "\n",
    "            # 모델에 이미지 forward (gradient 계산 X)\n",
    "                with torch.no_grad():\n",
    "                    pred_logit = model(img)\n",
    "\n",
    "            # loss 값 계산\n",
    "                loss = criterion(pred_logit, label)\n",
    "\n",
    "            # Accuracy 계산\n",
    "                pred_label = torch.argmax(pred_logit, 1)\n",
    "                acc = (pred_label == label).sum().item() / len(img)\n",
    "                valid_loss.update(loss.item(), len(img))\n",
    "                valid_acc.update(acc, len(img))\n",
    "\n",
    "            valid_loss = valid_loss.avg\n",
    "            valid_acc = valid_acc.avg\n",
    "\n",
    "            print(\"Iter [%3d/%3d] | Train Loss %.4f | Train Acc %.4f | Valid Loss %.4f | Valid Acc %.4f\" %\n",
    "                (iteration, len(qd_train_dataloader), train_loss, train_acc, valid_loss, valid_acc))\n",
    "\n",
    "          # Train Log Writing\n",
    "            log.write('%d,%.4f,%.4f,%.4f,%.4f\\n'%(iteration, train_loss, train_acc, valid_loss, valid_acc))"
   ]
  },
  {
   "cell_type": "code",
   "execution_count": null,
   "metadata": {
    "colab": {
     "base_uri": "https://localhost:8080/",
     "height": 311
    },
    "executionInfo": {
     "elapsed": 336,
     "status": "ok",
     "timestamp": 1629525725086,
     "user": {
      "displayName": "‍김종하[ 학부재학 / 컴퓨터학과 ]",
      "photoUrl": "",
      "userId": "09112571090351725461"
     },
     "user_tz": -540
    },
    "id": "9CVsDSnrO4VL",
    "outputId": "5cca0e52-35de-4f69-9f31-ce9e7c03e177"
   },
   "outputs": [],
   "source": [
    "# Visualize training log\n",
    "augmentation_train_log = pd.read_csv(os.path.join(log_dir, 'augmentation_train_log.csv'), index_col=0, header=None)\n",
    "fig, ax = plt.subplots()\n",
    "ax.plot(augmentation_train_log.iloc[:,0], label='Training with augmentation')\n",
    "ax.set_xlabel('Iteration', fontsize=15)\n",
    "ax.set_ylabel('Loss', fontsize=15)\n",
    "\n",
    "fig.legend(fontsize=15)\n",
    "\n",
    "plt.show()"
   ]
  },
  {
   "cell_type": "markdown",
   "metadata": {
    "id": "P59NogT7GPDR"
   },
   "source": [
    "## Some other methods to improve model performance\n",
    "Augmentation을 적용한 모델의 결과가 더 좋아졌나요? 성능이 향상되었다면 축하드리며, 성능이 좋아지지 않거나 오히려 나빠졌더라도 괜찮습니다. 중요한 것은 augmentation으로 이 과제 코드에서 성능을 얼마나 올렸는지가 아니라, 다음에 다른 dataset, 다른 model로 학습을 진행할 때 필요한 augmentation을 생각해낼 수 있는 나름의 성공/실패 경험과 이유를 만드는 것이기 때문입니다.\n",
    "\n",
    "데이터의 특성 및 모델의 특성을 반영할 수 있는 몇가지 추가 질문들입니다. 아래 질문들에 대해 나름의 답을 생각해보시고, 직접 실험해보면서 다음에 새로운 데이터셋과 모델을 만난다면 어떤 augmentation을 왜 적용해야 할지, 나름대로의 이유를 생각해보시고, 실험해보시고, 다른 캠퍼분들과 토의해보세요.\n",
    "\n",
    "1. Quickdraw dataset은 상당히 얇은 선의 이미지들로 이루어졌습니다. 이런 경우, blur augmentation을 적용해 이미지를 넓게 만들어주는 것이 성능 향상에 도움이 될 수 있습니다. 왜 blur augmentation이 모델 성능 향상에 도움이 되는지 생각해보세요. Hint) 이미지가 얇은 선으로 이루어져 있다는 것은 빈 공간이 많다는 뜻이고, 이는 곧 layer의 input으로 0이 상당히 많이 들어간다는 뜻입니다.\n",
    "\n",
    "2. Augmentation의 효과를 더욱 크게 하기 위해서는, 구현의 편의를 위해 (224, 224)로 image를 resize하는 대신 훨씬 작은 원본 이미지 크기를 사용하는 것이 좋을 수 있습니다. 위 blur augmentation이 (224,224)에서 효과가 적은 이유에 대해서 고민해보세요. Hint) CNN의 convolution filter 의 사이즈와 연관이 있습니다.\n",
    "\n",
    "3. Augmentation의 순서 역시 중요한 요소가 될 수 있습니다. Blur를 먼저 적용하고 크게 resize하는 경우와 resize를 먼저 하고 blur를 적용하는 경우, 이미지가 어떻게 달라질지 예상해보시고, 실제 augmentation package에 따라 결과가 어떻게 나타나는지도 확인해보세요. 그리고 Geometric augmentation의 경우에 대해서도 순서가 어떻게 영향을 미칠지 생각해보세요. \n",
    "\n",
    "4. Augmentation을 적용했음에도, convolution layers를 고정하고 linear classifier만 새로 학습하는 fine-tuning을 수행하면 augmentation의 효과가 떨어질 수 있습니다. 그 이유에 대해 생각해보세요.\n",
    "\n",
    "**TO DO (3-1)** : 위 further question에 대해 고민해보고, 직접 실험해보며 결과를 확인해보세요. "
   ]
  },
  {
   "cell_type": "code",
   "execution_count": null,
   "metadata": {
    "id": "U7DejpF3BIje"
   },
   "outputs": [],
   "source": []
  }
 ],
 "metadata": {
  "accelerator": "GPU",
  "colab": {
   "collapsed_sections": [],
   "name": "(기본) 2번 과제 - Training with Data Augmentation (문제).ipynb",
   "provenance": []
  },
  "kernelspec": {
   "display_name": "Python 3 (ipykernel)",
   "language": "python",
   "name": "python3"
  },
  "language_info": {
   "codemirror_mode": {
    "name": "ipython",
    "version": 3
   },
   "file_extension": ".py",
   "mimetype": "text/x-python",
   "name": "python",
   "nbconvert_exporter": "python",
   "pygments_lexer": "ipython3",
   "version": "3.8.5"
  },
  "widgets": {
   "application/vnd.jupyter.widget-state+json": {
    "2209f21064044ea3a5fcd9f4a4e85627": {
     "model_module": "@jupyter-widgets/base",
     "model_module_version": "1.2.0",
     "model_name": "LayoutModel",
     "state": {
      "_model_module": "@jupyter-widgets/base",
      "_model_module_version": "1.2.0",
      "_model_name": "LayoutModel",
      "_view_count": null,
      "_view_module": "@jupyter-widgets/base",
      "_view_module_version": "1.2.0",
      "_view_name": "LayoutView",
      "align_content": null,
      "align_items": null,
      "align_self": null,
      "border": null,
      "bottom": null,
      "display": null,
      "flex": null,
      "flex_flow": null,
      "grid_area": null,
      "grid_auto_columns": null,
      "grid_auto_flow": null,
      "grid_auto_rows": null,
      "grid_column": null,
      "grid_gap": null,
      "grid_row": null,
      "grid_template_areas": null,
      "grid_template_columns": null,
      "grid_template_rows": null,
      "height": null,
      "justify_content": null,
      "justify_items": null,
      "left": null,
      "margin": null,
      "max_height": null,
      "max_width": null,
      "min_height": null,
      "min_width": null,
      "object_fit": null,
      "object_position": null,
      "order": null,
      "overflow": null,
      "overflow_x": null,
      "overflow_y": null,
      "padding": null,
      "right": null,
      "top": null,
      "visibility": null,
      "width": null
     }
    },
    "22a2f70dcd9449038917731ebd5a8df6": {
     "model_module": "@jupyter-widgets/controls",
     "model_module_version": "1.5.0",
     "model_name": "DescriptionStyleModel",
     "state": {
      "_model_module": "@jupyter-widgets/controls",
      "_model_module_version": "1.5.0",
      "_model_name": "DescriptionStyleModel",
      "_view_count": null,
      "_view_module": "@jupyter-widgets/base",
      "_view_module_version": "1.2.0",
      "_view_name": "StyleView",
      "description_width": ""
     }
    },
    "2befef594131489694fa6b4551f51258": {
     "model_module": "@jupyter-widgets/base",
     "model_module_version": "1.2.0",
     "model_name": "LayoutModel",
     "state": {
      "_model_module": "@jupyter-widgets/base",
      "_model_module_version": "1.2.0",
      "_model_name": "LayoutModel",
      "_view_count": null,
      "_view_module": "@jupyter-widgets/base",
      "_view_module_version": "1.2.0",
      "_view_name": "LayoutView",
      "align_content": null,
      "align_items": null,
      "align_self": null,
      "border": null,
      "bottom": null,
      "display": null,
      "flex": null,
      "flex_flow": null,
      "grid_area": null,
      "grid_auto_columns": null,
      "grid_auto_flow": null,
      "grid_auto_rows": null,
      "grid_column": null,
      "grid_gap": null,
      "grid_row": null,
      "grid_template_areas": null,
      "grid_template_columns": null,
      "grid_template_rows": null,
      "height": null,
      "justify_content": null,
      "justify_items": null,
      "left": null,
      "margin": null,
      "max_height": null,
      "max_width": null,
      "min_height": null,
      "min_width": null,
      "object_fit": null,
      "object_position": null,
      "order": null,
      "overflow": null,
      "overflow_x": null,
      "overflow_y": null,
      "padding": null,
      "right": null,
      "top": null,
      "visibility": null,
      "width": null
     }
    },
    "363b7ac9ccf64f9fbfc4b89efdd9b6a6": {
     "model_module": "@jupyter-widgets/controls",
     "model_module_version": "1.5.0",
     "model_name": "HTMLModel",
     "state": {
      "_dom_classes": [],
      "_model_module": "@jupyter-widgets/controls",
      "_model_module_version": "1.5.0",
      "_model_name": "HTMLModel",
      "_view_count": null,
      "_view_module": "@jupyter-widgets/controls",
      "_view_module_version": "1.5.0",
      "_view_name": "HTMLView",
      "description": "",
      "description_tooltip": null,
      "layout": "IPY_MODEL_2209f21064044ea3a5fcd9f4a4e85627",
      "placeholder": "​",
      "style": "IPY_MODEL_22a2f70dcd9449038917731ebd5a8df6",
      "value": "100%"
     }
    },
    "4e2f8e6489b948d69c2a282b97fc12d7": {
     "model_module": "@jupyter-widgets/controls",
     "model_module_version": "1.5.0",
     "model_name": "FloatProgressModel",
     "state": {
      "_dom_classes": [],
      "_model_module": "@jupyter-widgets/controls",
      "_model_module_version": "1.5.0",
      "_model_name": "FloatProgressModel",
      "_view_count": null,
      "_view_module": "@jupyter-widgets/controls",
      "_view_module_version": "1.5.0",
      "_view_name": "ProgressView",
      "bar_style": "success",
      "description": "",
      "description_tooltip": null,
      "layout": "IPY_MODEL_2befef594131489694fa6b4551f51258",
      "max": 531460341,
      "min": 0,
      "orientation": "horizontal",
      "style": "IPY_MODEL_bbcafac8387148ebb12543a1c4d23307",
      "value": 531460341
     }
    },
    "5b56191948f140a0a6c57a349f731bd1": {
     "model_module": "@jupyter-widgets/controls",
     "model_module_version": "1.5.0",
     "model_name": "HBoxModel",
     "state": {
      "_dom_classes": [],
      "_model_module": "@jupyter-widgets/controls",
      "_model_module_version": "1.5.0",
      "_model_name": "HBoxModel",
      "_view_count": null,
      "_view_module": "@jupyter-widgets/controls",
      "_view_module_version": "1.5.0",
      "_view_name": "HBoxView",
      "box_style": "",
      "children": [
       "IPY_MODEL_363b7ac9ccf64f9fbfc4b89efdd9b6a6",
       "IPY_MODEL_4e2f8e6489b948d69c2a282b97fc12d7",
       "IPY_MODEL_ff3164a18dbd47f5bbd5557a40b944c3"
      ],
      "layout": "IPY_MODEL_fa8268b80e9e4cacacd8a77eb282f30a"
     }
    },
    "baa4ba1979284471a81b2f7eb0ddaa0d": {
     "model_module": "@jupyter-widgets/base",
     "model_module_version": "1.2.0",
     "model_name": "LayoutModel",
     "state": {
      "_model_module": "@jupyter-widgets/base",
      "_model_module_version": "1.2.0",
      "_model_name": "LayoutModel",
      "_view_count": null,
      "_view_module": "@jupyter-widgets/base",
      "_view_module_version": "1.2.0",
      "_view_name": "LayoutView",
      "align_content": null,
      "align_items": null,
      "align_self": null,
      "border": null,
      "bottom": null,
      "display": null,
      "flex": null,
      "flex_flow": null,
      "grid_area": null,
      "grid_auto_columns": null,
      "grid_auto_flow": null,
      "grid_auto_rows": null,
      "grid_column": null,
      "grid_gap": null,
      "grid_row": null,
      "grid_template_areas": null,
      "grid_template_columns": null,
      "grid_template_rows": null,
      "height": null,
      "justify_content": null,
      "justify_items": null,
      "left": null,
      "margin": null,
      "max_height": null,
      "max_width": null,
      "min_height": null,
      "min_width": null,
      "object_fit": null,
      "object_position": null,
      "order": null,
      "overflow": null,
      "overflow_x": null,
      "overflow_y": null,
      "padding": null,
      "right": null,
      "top": null,
      "visibility": null,
      "width": null
     }
    },
    "bbcafac8387148ebb12543a1c4d23307": {
     "model_module": "@jupyter-widgets/controls",
     "model_module_version": "1.5.0",
     "model_name": "ProgressStyleModel",
     "state": {
      "_model_module": "@jupyter-widgets/controls",
      "_model_module_version": "1.5.0",
      "_model_name": "ProgressStyleModel",
      "_view_count": null,
      "_view_module": "@jupyter-widgets/base",
      "_view_module_version": "1.2.0",
      "_view_name": "StyleView",
      "bar_color": null,
      "description_width": ""
     }
    },
    "ef5d99f43e0d432d928e09e262b57a52": {
     "model_module": "@jupyter-widgets/controls",
     "model_module_version": "1.5.0",
     "model_name": "DescriptionStyleModel",
     "state": {
      "_model_module": "@jupyter-widgets/controls",
      "_model_module_version": "1.5.0",
      "_model_name": "DescriptionStyleModel",
      "_view_count": null,
      "_view_module": "@jupyter-widgets/base",
      "_view_module_version": "1.2.0",
      "_view_name": "StyleView",
      "description_width": ""
     }
    },
    "fa8268b80e9e4cacacd8a77eb282f30a": {
     "model_module": "@jupyter-widgets/base",
     "model_module_version": "1.2.0",
     "model_name": "LayoutModel",
     "state": {
      "_model_module": "@jupyter-widgets/base",
      "_model_module_version": "1.2.0",
      "_model_name": "LayoutModel",
      "_view_count": null,
      "_view_module": "@jupyter-widgets/base",
      "_view_module_version": "1.2.0",
      "_view_name": "LayoutView",
      "align_content": null,
      "align_items": null,
      "align_self": null,
      "border": null,
      "bottom": null,
      "display": null,
      "flex": null,
      "flex_flow": null,
      "grid_area": null,
      "grid_auto_columns": null,
      "grid_auto_flow": null,
      "grid_auto_rows": null,
      "grid_column": null,
      "grid_gap": null,
      "grid_row": null,
      "grid_template_areas": null,
      "grid_template_columns": null,
      "grid_template_rows": null,
      "height": null,
      "justify_content": null,
      "justify_items": null,
      "left": null,
      "margin": null,
      "max_height": null,
      "max_width": null,
      "min_height": null,
      "min_width": null,
      "object_fit": null,
      "object_position": null,
      "order": null,
      "overflow": null,
      "overflow_x": null,
      "overflow_y": null,
      "padding": null,
      "right": null,
      "top": null,
      "visibility": null,
      "width": null
     }
    },
    "ff3164a18dbd47f5bbd5557a40b944c3": {
     "model_module": "@jupyter-widgets/controls",
     "model_module_version": "1.5.0",
     "model_name": "HTMLModel",
     "state": {
      "_dom_classes": [],
      "_model_module": "@jupyter-widgets/controls",
      "_model_module_version": "1.5.0",
      "_model_name": "HTMLModel",
      "_view_count": null,
      "_view_module": "@jupyter-widgets/controls",
      "_view_module_version": "1.5.0",
      "_view_name": "HTMLView",
      "description": "",
      "description_tooltip": null,
      "layout": "IPY_MODEL_baa4ba1979284471a81b2f7eb0ddaa0d",
      "placeholder": "​",
      "style": "IPY_MODEL_ef5d99f43e0d432d928e09e262b57a52",
      "value": " 507M/507M [00:23&lt;00:00, 23.3MB/s]"
     }
    }
   }
  }
 },
 "nbformat": 4,
 "nbformat_minor": 4
}
