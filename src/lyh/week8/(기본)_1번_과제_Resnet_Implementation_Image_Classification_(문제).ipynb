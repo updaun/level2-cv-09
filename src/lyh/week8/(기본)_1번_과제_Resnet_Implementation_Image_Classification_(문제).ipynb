{
  "cells": [
    {
      "cell_type": "markdown",
      "metadata": {
        "id": "ScDgQXnt5mfK"
      },
      "source": [
        "# 기본과제 1 : ResNet-34 implementation and fine-tuning\n"
      ]
    },
    {
      "cell_type": "markdown",
      "metadata": {
        "id": "zR-05csy6gzf"
      },
      "source": [
        "기본과제 1번에서는 ResNet-34 model을 구현해보고, QuickDraw dataset에 대해 직접 구현한 모델을 완전히 random 한 weight에서 시작하는(training from scratch) 학습을 해보게 됩니다. 또, torchvision에 내장된 ResNet-34의 pretrained weight를 불러와 적절한 수정을 통해 conv 부분은 고정하고, classification을 수행하는 마지막 layer 부분만 새로 학습하는 fine-tuning을 시도하며 training from scratch와의 차이점을 비교하게 됩니다.\n",
        "\n",
        "과제 목표\n",
        "- Pre-trained 네트워크를 활용 할 수 있다.\n",
        "- Fine-tuning을 위해 네트워크의 일부를 고정하고 다른 일부만 학습할 수 있다.\n",
        "- 네트워크를 일부 커스터마이즈해서 다른 문제에 적용할 수 있는 응용 능력을 갖춘다.\n"
      ]
    },
    {
      "cell_type": "markdown",
      "metadata": {
        "id": "pcDoom-87xX4"
      },
      "source": [
        "## Quickdraw dataset\n",
        "Quickdraw dataset은 다양한 물체에 대한 간단한 sketch로 구성된 데이터셋입니다. [데이터셋 홈페이지](https://quickdraw.withgoogle.com/data)에서 예시 이미지들을 확인할 수 있으니, 데이터셋에 어떤 이미지들이 있는지 확인해보시기 바랍니다. \n",
        "\n",
        "이번 과제에서는 model을 보다 쉽게 구현할 수 있도록 데이터를 불러오는 과정에서 모든 이미지들을 (227 x 227)로 변경해줍니다. 또, 전체 class가 아닌 10개의 class만을 사용해 학습을 진행하게 됩니다.\n",
        "\n",
        "아래 가려진 코드들은 필요한 패키지들을 import하고, QuickDraw dataset을 사용하기 위한 준비 코드들입니다. 코드가 꽤 길어 가려두었으며, 과제를 수행하기 위해 이해가 필수적인 코드는 아니지만 해당 과정을 이해하고 싶다면 코드를 확인해보셔도 좋습니다.\n"
      ]
    },
    {
      "cell_type": "code",
      "execution_count": 2,
      "metadata": {
        "colab": {
          "base_uri": "https://localhost:8080/"
        },
        "id": "XR1bH4WF6qBP",
        "outputId": "2a5673ad-134d-4450-ca04-5c5aeab559c0"
      },
      "outputs": [
        {
          "name": "stdout",
          "output_type": "stream",
          "text": [
            "Requirement already satisfied: quickdraw in /opt/conda/lib/python3.8/site-packages (0.2.0)\n",
            "Requirement already satisfied: requests in /opt/conda/lib/python3.8/site-packages (from quickdraw) (2.24.0)\n",
            "Requirement already satisfied: pillow in /opt/conda/lib/python3.8/site-packages (from quickdraw) (8.1.0)\n",
            "Requirement already satisfied: idna<3,>=2.5 in /opt/conda/lib/python3.8/site-packages (from requests->quickdraw) (2.10)\n",
            "Requirement already satisfied: chardet<4,>=3.0.2 in /opt/conda/lib/python3.8/site-packages (from requests->quickdraw) (3.0.4)\n",
            "Requirement already satisfied: urllib3!=1.25.0,!=1.25.1,<1.26,>=1.21.1 in /opt/conda/lib/python3.8/site-packages (from requests->quickdraw) (1.25.11)\n",
            "Requirement already satisfied: certifi>=2017.4.17 in /opt/conda/lib/python3.8/site-packages (from requests->quickdraw) (2021.10.8)\n"
          ]
        }
      ],
      "source": [
        "# install quickdraw python API\n",
        "!pip3 install quickdraw"
      ]
    },
    {
      "cell_type": "code",
      "execution_count": 3,
      "metadata": {
        "id": "04jAy3qh7Lpj"
      },
      "outputs": [],
      "source": [
        "# import packages\n",
        "from quickdraw import QuickDrawData, QuickDrawDataGroup\n",
        "import torch\n",
        "from torch.utils.data import Dataset, DataLoader\n",
        "from torchvision import transforms, utils\n",
        "import itertools\n",
        "import matplotlib.pyplot as plt\n",
        "import os\n",
        "import numpy as np\n",
        "import torch.nn as nn\n",
        "import pandas as pd\n",
        "import random"
      ]
    },
    {
      "cell_type": "code",
      "execution_count": 4,
      "metadata": {
        "id": "6lZG49UYBGrq"
      },
      "outputs": [],
      "source": [
        "seed = 111\n",
        "\n",
        "torch.manual_seed(seed)\n",
        "torch.cuda.manual_seed(seed)\n",
        "torch.cuda.manual_seed_all(seed)  # if use multi-GPU\n",
        "torch.backends.cudnn.deterministic = True\n",
        "torch.backends.cudnn.benchmark = False\n",
        "np.random.seed(seed)\n",
        "random.seed(seed)"
      ]
    },
    {
      "cell_type": "code",
      "execution_count": 5,
      "metadata": {
        "id": "RVpsG6D7IXFq"
      },
      "outputs": [],
      "source": [
        "num_img_per_class = 5000\n",
        "qd = QuickDrawData(max_drawings=num_img_per_class)"
      ]
    },
    {
      "cell_type": "code",
      "execution_count": 6,
      "metadata": {
        "id": "GRk-2HBhBb99"
      },
      "outputs": [],
      "source": [
        "class_list = ['apple', 'wine bottle', 'spoon', 'rainbow', 'panda', 'hospital', 'scissors', 'toothpaste', 'baseball', 'hourglass']\n",
        "class_dict = {'apple' : 0, 'wine bottle' : 1, 'spoon' : 2, 'rainbow' : 3, 'panda': 4, 'hospital' : 5, 'scissors' : 6, 'toothpaste' : 7, 'baseball' : 8, 'hourglass' : 9}"
      ]
    },
    {
      "cell_type": "code",
      "execution_count": 7,
      "metadata": {
        "colab": {
          "base_uri": "https://localhost:8080/"
        },
        "id": "70K8gdG69UI0",
        "outputId": "6e37cf96-d91c-45b6-ecfa-4e8c198dfba3"
      },
      "outputs": [
        {
          "name": "stdout",
          "output_type": "stream",
          "text": [
            "loading apple drawings\n",
            "load complete\n",
            "loading wine bottle drawings\n",
            "load complete\n",
            "loading spoon drawings\n",
            "load complete\n",
            "loading rainbow drawings\n",
            "load complete\n",
            "loading panda drawings\n",
            "load complete\n",
            "loading hospital drawings\n",
            "load complete\n",
            "loading scissors drawings\n",
            "load complete\n",
            "loading toothpaste drawings\n",
            "load complete\n",
            "loading baseball drawings\n",
            "load complete\n",
            "loading hourglass drawings\n",
            "load complete\n"
          ]
        }
      ],
      "source": [
        "qd.load_drawings(class_list)"
      ]
    },
    {
      "cell_type": "code",
      "execution_count": 8,
      "metadata": {
        "colab": {
          "base_uri": "https://localhost:8080/"
        },
        "id": "0gqxlZUcCDXx",
        "outputId": "da403d64-8ba1-441b-cc02-bf43e2516b5b"
      },
      "outputs": [
        {
          "name": "stdout",
          "output_type": "stream",
          "text": [
            "loading apple drawings\n",
            "load complete\n",
            "loading wine bottle drawings\n",
            "load complete\n",
            "loading spoon drawings\n",
            "load complete\n",
            "loading rainbow drawings\n",
            "load complete\n",
            "loading panda drawings\n",
            "load complete\n",
            "loading hospital drawings\n",
            "load complete\n",
            "loading scissors drawings\n",
            "load complete\n",
            "loading toothpaste drawings\n",
            "load complete\n",
            "loading baseball drawings\n",
            "load complete\n",
            "loading hourglass drawings\n",
            "load complete\n"
          ]
        }
      ],
      "source": [
        "# get images, and append to train/validation data and label list\n",
        "train_data = list()\n",
        "val_data = list()\n",
        "train_label = list()\n",
        "val_label = list()\n",
        "for class_name in class_list:\n",
        "  qdgroup = QuickDrawDataGroup(class_name, max_drawings=num_img_per_class)\n",
        "  for i, img in enumerate(qdgroup.drawings):\n",
        "    if i < int(0.9 * num_img_per_class):\n",
        "      train_data.append(np.asarray(img.get_image()))\n",
        "      train_label.append(class_dict[class_name])\n",
        "    else:\n",
        "      val_data.append(np.asarray(img.get_image()))\n",
        "      val_label.append(class_dict[class_name])"
      ]
    },
    {
      "cell_type": "code",
      "execution_count": 9,
      "metadata": {
        "id": "GOuZir1wI_Jd"
      },
      "outputs": [],
      "source": [
        "# transformation, image to (227, 227) tensor\n",
        "\n",
        "# NOTE : torchvision 0.8 이하에서 Tensor에 대해 transforms.Resize가 적용 불가능해 에러 발생\n",
        "# torchvision update를 통해 문제를 해결하도록 안내!\n",
        "transform = transforms.Compose([\n",
        "    transforms.ToTensor(),\n",
        "    transforms.Resize((227,227)),\n",
        "    transforms.Normalize(mean=[0.485, 0.456, 0.406],\n",
        "                          std=[0.229, 0.224, 0.225])\n",
        "])"
      ]
    },
    {
      "cell_type": "code",
      "execution_count": 10,
      "metadata": {
        "id": "veN_TBjQ-a-y"
      },
      "outputs": [],
      "source": [
        "# custom dataset for Quickdraw\n",
        "class QuickDrawDataset(Dataset):\n",
        "\n",
        "    def __init__(self, data, labels, transform=None):\n",
        "        self.data = data\n",
        "        self.labels = labels\n",
        "        self.transform = transform\n",
        "\n",
        "    def __len__(self):\n",
        "        return len(self.data)\n",
        "\n",
        "    def __getitem__(self, idx):\n",
        "        img = self.data[idx]\n",
        "        label = self.labels[idx]\n",
        "        if self.transform:\n",
        "          img = self.transform(img)\n",
        "        return img, label"
      ]
    },
    {
      "cell_type": "markdown",
      "metadata": {
        "id": "3hLUgHSecpzI"
      },
      "source": [
        "## To do (1) ResNet 구현\n",
        "아래 table에서 34-layer를 구현하세요. 세부 layer가 논문과 동일하지 않아도 되지만, layer 갯수와 kernel size, output size는 지켜주세요.  \n",
        "\n",
        "깃헙, 구글 등에 구현체를 최대한 보지 않고 구현해보세요, layer 마다 입력과 출력 차원을 하나씩 print 해보면서 layer를 구성해보시길 바랍니다.  \n",
        "아래 네트워크 입력과 출력 차원을 지켜주세요. \n",
        "- input: (batch_size, 3, 227, 227)  \n",
        "- output: (batch_size, 10(class 갯수))\n",
        "\n",
        "논문을 참고해도 좋습니다. [ResNet paper](https://arxiv.org/pdf/1512.03385.pdf).  \n",
        "\n",
        "![스크린샷 2022-02-15 오후 9.54.02.png](data:image/png;base64,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)"
      ]
    },
    {
      "cell_type": "markdown",
      "metadata": {
        "id": "Zkam6KX6de9N"
      },
      "source": [
        "34-layer ResNet 같이 깊고 반복되는 네트워크를 구현할 때는 반복되는 작은 block 부터 구현해서 쌓아 올리는게 좋습니다.  \n",
        "\n",
        "아래에 간단한 코드 구조를 제시해두었지만, 꼭 따르지 않아도 됩니다.  "
      ]
    },
    {
      "cell_type": "markdown",
      "metadata": {
        "id": "qtTkwsqmeDKx"
      },
      "source": [
        "### ConvBlock\n",
        "Hint: conv + batchnorm + activation func(ReLU)"
      ]
    },
    {
      "cell_type": "code",
      "execution_count": 11,
      "metadata": {
        "id": "PytNahM1eF1p"
      },
      "outputs": [],
      "source": [
        "class ConvBlock(nn.Module):\n",
        "    def __init__(self, in_channels, out_channels, kernel_size=3, stride=1, padding=1):\n",
        "        super().__init__()\n",
        "\n",
        "        layers = []\n",
        "\n",
        "        ##fill it##\n",
        "        layers.append(nn.Conv2d(in_channels, out_channels, kernel_size, stride, padding, bias=False))\n",
        "        layers.append(nn.BatchNorm2d(out_channels))\n",
        "        layers.append(nn.ReLU(inplace=True))\n",
        "        self.convblk = nn.Sequential(*layers)\n",
        "\n",
        "    def forward(self, x):\n",
        "        \n",
        "        ##fill it##\n",
        "        x = self.convblk(x)\n",
        "\n",
        "        return x"
      ]
    },
    {
      "cell_type": "markdown",
      "metadata": {
        "id": "W1AAaTMDfHtM"
      },
      "source": [
        "### ResBlock\n",
        "Hint: ConvBlock + ConvBlock + residual connection(with short cut) \n",
        "  \n",
        "  \n",
        "![스크린샷 2022-02-15 오후 10.06.25.png](data:image/png;base64,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)"
      ]
    },
    {
      "cell_type": "code",
      "execution_count": 12,
      "metadata": {
        "id": "ej_OIAh8f247"
      },
      "outputs": [],
      "source": [
        "class ResBlock(nn.Module):\n",
        "    def __init__(self, in_channels, out_channels, kernel_size=3, stride=1, padding=1, downsample=None):\n",
        "        super().__init__()\n",
        "\n",
        "        layers = []\n",
        "        ##\bfill##\n",
        "        layers.append(nn.Conv2d(in_channels, out_channels, kernel_size=3, stride=stride, padding=1, bias=False))\n",
        "        layers.append(nn.BatchNorm2d(out_channels))\n",
        "        layers.append(nn.ReLU(inplace=True))\n",
        "        layers.append(nn.Conv2d(out_channels, out_channels, kernel_size=3, stride=1, padding=1, bias=False))\n",
        "        layers.append(nn.BatchNorm2d(out_channels))\n",
        "        self.resblk = nn.Sequential(*layers)\n",
        "        self.downsample = downsample\n",
        "\n",
        "\n",
        "    def forward(self, x):\n",
        "        ##fill##\n",
        "        identity = x\n",
        "\n",
        "        x = self.resblk(x)\n",
        "        if self.downsample is not None:\n",
        "          identity = self.downsample(identity)\n",
        "\n",
        "        x += identity\n",
        "        x = nn.ReLU(inplace=True)(x)\n",
        "\n",
        "        return x # + self.resblk(x)"
      ]
    },
    {
      "cell_type": "code",
      "execution_count": 13,
      "metadata": {
        "colab": {
          "base_uri": "https://localhost:8080/"
        },
        "id": "N6mKU0qIUWXx",
        "outputId": "de491bce-6d5c-437d-f33c-c6ee20ee6633"
      },
      "outputs": [
        {
          "data": {
            "text/plain": [
              "ResBlock(\n",
              "  (resblk): Sequential(\n",
              "    (0): Conv2d(64, 128, kernel_size=(3, 3), stride=(1, 1), padding=(1, 1), bias=False)\n",
              "    (1): BatchNorm2d(128, eps=1e-05, momentum=0.1, affine=True, track_running_stats=True)\n",
              "    (2): ReLU(inplace=True)\n",
              "    (3): Conv2d(128, 128, kernel_size=(3, 3), stride=(1, 1), padding=(1, 1), bias=False)\n",
              "    (4): BatchNorm2d(128, eps=1e-05, momentum=0.1, affine=True, track_running_stats=True)\n",
              "  )\n",
              ")"
            ]
          },
          "execution_count": 13,
          "metadata": {},
          "output_type": "execute_result"
        }
      ],
      "source": [
        "ResBlock(64, 128)"
      ]
    },
    {
      "cell_type": "code",
      "execution_count": 14,
      "metadata": {
        "colab": {
          "base_uri": "https://localhost:8080/"
        },
        "id": "lFIsQOX5gSbz",
        "outputId": "655c545c-0659-4ef5-ed90-2489e0bd5735"
      },
      "outputs": [
        {
          "data": {
            "text/plain": [
              "torch.Size([4, 64, 56, 56])"
            ]
          },
          "execution_count": 14,
          "metadata": {},
          "output_type": "execute_result"
        }
      ],
      "source": [
        "t = torch.randn((4, 64, 56, 56))\n",
        "ResBlock(64, 64)(t).shape"
      ]
    },
    {
      "cell_type": "markdown",
      "metadata": {
        "id": "V9s1JGkqgRst"
      },
      "source": [
        "### ResNet "
      ]
    },
    {
      "cell_type": "code",
      "execution_count": 15,
      "metadata": {
        "id": "321b0ggvgRcJ"
      },
      "outputs": [],
      "source": [
        "class ResNet(nn.Module):\n",
        "    def __init__(self, in_channels, out_channels, nker=64, nblk=[3,4,6,3]):\n",
        "        super(ResNet, self).__init__()\n",
        "\n",
        "        self.enc = ConvBlock(in_channels, nker, kernel_size=7, stride=2, padding=1)\n",
        "        self.max_pool = nn.MaxPool2d(kernel_size=3, stride=2, padding=1)\n",
        "\n",
        "\n",
        "\n",
        "        ##fill##\n",
        "        self.in_channels = 64\n",
        "        self.layer1 = self._make_layer(ResBlock, 64, nblk[0], stride=1)\n",
        "        self.layer2 = self._make_layer(ResBlock, 128, nblk[1], stride=2)\n",
        "        self.layer3 = self._make_layer(ResBlock, 256, nblk[2], stride=2)\n",
        "        self.layer4 = self._make_layer(ResBlock, 512, nblk[3], stride=2)\n",
        "        \n",
        "        self.avgpool = nn.AdaptiveAvgPool2d((1, 1))\n",
        "        self.fc = nn.Linear(nker*2*2*2, 10)\n",
        "\n",
        "    def _make_layer(self, block, out_channels, blocks, stride=1):\n",
        "        downsample = None\n",
        "        if stride != 1 or self.in_channels != out_channels:\n",
        "            downsample = nn.Sequential(\n",
        "                nn.Conv2d(self.in_channels, out_channels, kernel_size=1, stride=stride, bias=False),\n",
        "                nn.BatchNorm2d(out_channels),\n",
        "            )\n",
        "        layers = []\n",
        "        layers.append(block(self.in_channels, out_channels, stride=stride, downsample=downsample))\n",
        "        self.in_channels = out_channels\n",
        "        \n",
        "        for _ in range(1, blocks):\n",
        "            layers.append(block(self.in_channels, out_channels))\n",
        "\n",
        "        return nn.Sequential(*layers)\n",
        "\n",
        "    def forward(self, x):\n",
        "        x = self.enc(x)\n",
        "        x = self.max_pool(x)\n",
        "\n",
        "        ##fill##\n",
        "        x = self.layer1(x)\n",
        "        x = self.layer2(x)\n",
        "        x = self.layer3(x)\n",
        "        x = self.layer4(x)\n",
        "\n",
        "        x = self.avgpool(x)\n",
        "        x = torch.flatten(x, 1)\n",
        "        out = self.fc(x)\n",
        "\n",
        "        return out"
      ]
    },
    {
      "cell_type": "markdown",
      "metadata": {
        "id": "FaVYQYhVZq7W"
      },
      "source": [
        "아래는 테스트 코드 입니다. 네트워크가 잘 구성되었다면 (batch_size, 10) 차원의 output이 나오면 됩니다."
      ]
    },
    {
      "cell_type": "code",
      "execution_count": 16,
      "metadata": {
        "id": "fQbEn0zbBBES"
      },
      "outputs": [
        {
          "name": "stdout",
          "output_type": "stream",
          "text": [
            "Output tensor shape is : torch.Size([4, 10])\n"
          ]
        }
      ],
      "source": [
        "# Network\n",
        "model_test = ResNet(3, 10)\n",
        "\n",
        "# Random input\n",
        "x = torch.randn((4, 3, 227, 227))\n",
        "\n",
        "# Forward\n",
        "out = model_test(x)\n",
        "\n",
        "# Check the output shape\n",
        "print(\"Output tensor shape is :\", out.shape)"
      ]
    },
    {
      "cell_type": "markdown",
      "metadata": {
        "id": "2X_GsdEWBdLk"
      },
      "source": [
        "## Training custom ResNet-34 from scratch\n",
        "이제 직접 구현한 ResNet-34을 학습시켜보겠습니다. 모델을 학습하기 위해,\n",
        "1. DataLoader에서 image, label을 불러오고\n",
        "2. model에 image를 foward한 이후 output logit과 label의 loss를 계산하고\n",
        "3. loss를 통해 optimizer의 backward를 수행해 parameter를 업데이트하는\n",
        "\n",
        "일반적인 학습 loop을 완성하게 됩니다.\n"
      ]
    },
    {
      "cell_type": "code",
      "execution_count": 17,
      "metadata": {
        "id": "PHhRYP4ZBI0p"
      },
      "outputs": [
        {
          "data": {
            "text/plain": [
              "ResNet(\n",
              "  (enc): ConvBlock(\n",
              "    (convblk): Sequential(\n",
              "      (0): Conv2d(3, 64, kernel_size=(7, 7), stride=(2, 2), padding=(1, 1), bias=False)\n",
              "      (1): BatchNorm2d(64, eps=1e-05, momentum=0.1, affine=True, track_running_stats=True)\n",
              "      (2): ReLU(inplace=True)\n",
              "    )\n",
              "  )\n",
              "  (max_pool): MaxPool2d(kernel_size=3, stride=2, padding=1, dilation=1, ceil_mode=False)\n",
              "  (layer1): Sequential(\n",
              "    (0): ResBlock(\n",
              "      (resblk): Sequential(\n",
              "        (0): Conv2d(64, 64, kernel_size=(3, 3), stride=(1, 1), padding=(1, 1), bias=False)\n",
              "        (1): BatchNorm2d(64, eps=1e-05, momentum=0.1, affine=True, track_running_stats=True)\n",
              "        (2): ReLU(inplace=True)\n",
              "        (3): Conv2d(64, 64, kernel_size=(3, 3), stride=(1, 1), padding=(1, 1), bias=False)\n",
              "        (4): BatchNorm2d(64, eps=1e-05, momentum=0.1, affine=True, track_running_stats=True)\n",
              "      )\n",
              "    )\n",
              "    (1): ResBlock(\n",
              "      (resblk): Sequential(\n",
              "        (0): Conv2d(64, 64, kernel_size=(3, 3), stride=(1, 1), padding=(1, 1), bias=False)\n",
              "        (1): BatchNorm2d(64, eps=1e-05, momentum=0.1, affine=True, track_running_stats=True)\n",
              "        (2): ReLU(inplace=True)\n",
              "        (3): Conv2d(64, 64, kernel_size=(3, 3), stride=(1, 1), padding=(1, 1), bias=False)\n",
              "        (4): BatchNorm2d(64, eps=1e-05, momentum=0.1, affine=True, track_running_stats=True)\n",
              "      )\n",
              "    )\n",
              "    (2): ResBlock(\n",
              "      (resblk): Sequential(\n",
              "        (0): Conv2d(64, 64, kernel_size=(3, 3), stride=(1, 1), padding=(1, 1), bias=False)\n",
              "        (1): BatchNorm2d(64, eps=1e-05, momentum=0.1, affine=True, track_running_stats=True)\n",
              "        (2): ReLU(inplace=True)\n",
              "        (3): Conv2d(64, 64, kernel_size=(3, 3), stride=(1, 1), padding=(1, 1), bias=False)\n",
              "        (4): BatchNorm2d(64, eps=1e-05, momentum=0.1, affine=True, track_running_stats=True)\n",
              "      )\n",
              "    )\n",
              "  )\n",
              "  (layer2): Sequential(\n",
              "    (0): ResBlock(\n",
              "      (resblk): Sequential(\n",
              "        (0): Conv2d(64, 128, kernel_size=(3, 3), stride=(2, 2), padding=(1, 1), bias=False)\n",
              "        (1): BatchNorm2d(128, eps=1e-05, momentum=0.1, affine=True, track_running_stats=True)\n",
              "        (2): ReLU(inplace=True)\n",
              "        (3): Conv2d(128, 128, kernel_size=(3, 3), stride=(1, 1), padding=(1, 1), bias=False)\n",
              "        (4): BatchNorm2d(128, eps=1e-05, momentum=0.1, affine=True, track_running_stats=True)\n",
              "      )\n",
              "      (downsample): Sequential(\n",
              "        (0): Conv2d(64, 128, kernel_size=(1, 1), stride=(2, 2), bias=False)\n",
              "        (1): BatchNorm2d(128, eps=1e-05, momentum=0.1, affine=True, track_running_stats=True)\n",
              "      )\n",
              "    )\n",
              "    (1): ResBlock(\n",
              "      (resblk): Sequential(\n",
              "        (0): Conv2d(128, 128, kernel_size=(3, 3), stride=(1, 1), padding=(1, 1), bias=False)\n",
              "        (1): BatchNorm2d(128, eps=1e-05, momentum=0.1, affine=True, track_running_stats=True)\n",
              "        (2): ReLU(inplace=True)\n",
              "        (3): Conv2d(128, 128, kernel_size=(3, 3), stride=(1, 1), padding=(1, 1), bias=False)\n",
              "        (4): BatchNorm2d(128, eps=1e-05, momentum=0.1, affine=True, track_running_stats=True)\n",
              "      )\n",
              "    )\n",
              "    (2): ResBlock(\n",
              "      (resblk): Sequential(\n",
              "        (0): Conv2d(128, 128, kernel_size=(3, 3), stride=(1, 1), padding=(1, 1), bias=False)\n",
              "        (1): BatchNorm2d(128, eps=1e-05, momentum=0.1, affine=True, track_running_stats=True)\n",
              "        (2): ReLU(inplace=True)\n",
              "        (3): Conv2d(128, 128, kernel_size=(3, 3), stride=(1, 1), padding=(1, 1), bias=False)\n",
              "        (4): BatchNorm2d(128, eps=1e-05, momentum=0.1, affine=True, track_running_stats=True)\n",
              "      )\n",
              "    )\n",
              "    (3): ResBlock(\n",
              "      (resblk): Sequential(\n",
              "        (0): Conv2d(128, 128, kernel_size=(3, 3), stride=(1, 1), padding=(1, 1), bias=False)\n",
              "        (1): BatchNorm2d(128, eps=1e-05, momentum=0.1, affine=True, track_running_stats=True)\n",
              "        (2): ReLU(inplace=True)\n",
              "        (3): Conv2d(128, 128, kernel_size=(3, 3), stride=(1, 1), padding=(1, 1), bias=False)\n",
              "        (4): BatchNorm2d(128, eps=1e-05, momentum=0.1, affine=True, track_running_stats=True)\n",
              "      )\n",
              "    )\n",
              "  )\n",
              "  (layer3): Sequential(\n",
              "    (0): ResBlock(\n",
              "      (resblk): Sequential(\n",
              "        (0): Conv2d(128, 256, kernel_size=(3, 3), stride=(2, 2), padding=(1, 1), bias=False)\n",
              "        (1): BatchNorm2d(256, eps=1e-05, momentum=0.1, affine=True, track_running_stats=True)\n",
              "        (2): ReLU(inplace=True)\n",
              "        (3): Conv2d(256, 256, kernel_size=(3, 3), stride=(1, 1), padding=(1, 1), bias=False)\n",
              "        (4): BatchNorm2d(256, eps=1e-05, momentum=0.1, affine=True, track_running_stats=True)\n",
              "      )\n",
              "      (downsample): Sequential(\n",
              "        (0): Conv2d(128, 256, kernel_size=(1, 1), stride=(2, 2), bias=False)\n",
              "        (1): BatchNorm2d(256, eps=1e-05, momentum=0.1, affine=True, track_running_stats=True)\n",
              "      )\n",
              "    )\n",
              "    (1): ResBlock(\n",
              "      (resblk): Sequential(\n",
              "        (0): Conv2d(256, 256, kernel_size=(3, 3), stride=(1, 1), padding=(1, 1), bias=False)\n",
              "        (1): BatchNorm2d(256, eps=1e-05, momentum=0.1, affine=True, track_running_stats=True)\n",
              "        (2): ReLU(inplace=True)\n",
              "        (3): Conv2d(256, 256, kernel_size=(3, 3), stride=(1, 1), padding=(1, 1), bias=False)\n",
              "        (4): BatchNorm2d(256, eps=1e-05, momentum=0.1, affine=True, track_running_stats=True)\n",
              "      )\n",
              "    )\n",
              "    (2): ResBlock(\n",
              "      (resblk): Sequential(\n",
              "        (0): Conv2d(256, 256, kernel_size=(3, 3), stride=(1, 1), padding=(1, 1), bias=False)\n",
              "        (1): BatchNorm2d(256, eps=1e-05, momentum=0.1, affine=True, track_running_stats=True)\n",
              "        (2): ReLU(inplace=True)\n",
              "        (3): Conv2d(256, 256, kernel_size=(3, 3), stride=(1, 1), padding=(1, 1), bias=False)\n",
              "        (4): BatchNorm2d(256, eps=1e-05, momentum=0.1, affine=True, track_running_stats=True)\n",
              "      )\n",
              "    )\n",
              "    (3): ResBlock(\n",
              "      (resblk): Sequential(\n",
              "        (0): Conv2d(256, 256, kernel_size=(3, 3), stride=(1, 1), padding=(1, 1), bias=False)\n",
              "        (1): BatchNorm2d(256, eps=1e-05, momentum=0.1, affine=True, track_running_stats=True)\n",
              "        (2): ReLU(inplace=True)\n",
              "        (3): Conv2d(256, 256, kernel_size=(3, 3), stride=(1, 1), padding=(1, 1), bias=False)\n",
              "        (4): BatchNorm2d(256, eps=1e-05, momentum=0.1, affine=True, track_running_stats=True)\n",
              "      )\n",
              "    )\n",
              "    (4): ResBlock(\n",
              "      (resblk): Sequential(\n",
              "        (0): Conv2d(256, 256, kernel_size=(3, 3), stride=(1, 1), padding=(1, 1), bias=False)\n",
              "        (1): BatchNorm2d(256, eps=1e-05, momentum=0.1, affine=True, track_running_stats=True)\n",
              "        (2): ReLU(inplace=True)\n",
              "        (3): Conv2d(256, 256, kernel_size=(3, 3), stride=(1, 1), padding=(1, 1), bias=False)\n",
              "        (4): BatchNorm2d(256, eps=1e-05, momentum=0.1, affine=True, track_running_stats=True)\n",
              "      )\n",
              "    )\n",
              "    (5): ResBlock(\n",
              "      (resblk): Sequential(\n",
              "        (0): Conv2d(256, 256, kernel_size=(3, 3), stride=(1, 1), padding=(1, 1), bias=False)\n",
              "        (1): BatchNorm2d(256, eps=1e-05, momentum=0.1, affine=True, track_running_stats=True)\n",
              "        (2): ReLU(inplace=True)\n",
              "        (3): Conv2d(256, 256, kernel_size=(3, 3), stride=(1, 1), padding=(1, 1), bias=False)\n",
              "        (4): BatchNorm2d(256, eps=1e-05, momentum=0.1, affine=True, track_running_stats=True)\n",
              "      )\n",
              "    )\n",
              "  )\n",
              "  (layer4): Sequential(\n",
              "    (0): ResBlock(\n",
              "      (resblk): Sequential(\n",
              "        (0): Conv2d(256, 512, kernel_size=(3, 3), stride=(2, 2), padding=(1, 1), bias=False)\n",
              "        (1): BatchNorm2d(512, eps=1e-05, momentum=0.1, affine=True, track_running_stats=True)\n",
              "        (2): ReLU(inplace=True)\n",
              "        (3): Conv2d(512, 512, kernel_size=(3, 3), stride=(1, 1), padding=(1, 1), bias=False)\n",
              "        (4): BatchNorm2d(512, eps=1e-05, momentum=0.1, affine=True, track_running_stats=True)\n",
              "      )\n",
              "      (downsample): Sequential(\n",
              "        (0): Conv2d(256, 512, kernel_size=(1, 1), stride=(2, 2), bias=False)\n",
              "        (1): BatchNorm2d(512, eps=1e-05, momentum=0.1, affine=True, track_running_stats=True)\n",
              "      )\n",
              "    )\n",
              "    (1): ResBlock(\n",
              "      (resblk): Sequential(\n",
              "        (0): Conv2d(512, 512, kernel_size=(3, 3), stride=(1, 1), padding=(1, 1), bias=False)\n",
              "        (1): BatchNorm2d(512, eps=1e-05, momentum=0.1, affine=True, track_running_stats=True)\n",
              "        (2): ReLU(inplace=True)\n",
              "        (3): Conv2d(512, 512, kernel_size=(3, 3), stride=(1, 1), padding=(1, 1), bias=False)\n",
              "        (4): BatchNorm2d(512, eps=1e-05, momentum=0.1, affine=True, track_running_stats=True)\n",
              "      )\n",
              "    )\n",
              "    (2): ResBlock(\n",
              "      (resblk): Sequential(\n",
              "        (0): Conv2d(512, 512, kernel_size=(3, 3), stride=(1, 1), padding=(1, 1), bias=False)\n",
              "        (1): BatchNorm2d(512, eps=1e-05, momentum=0.1, affine=True, track_running_stats=True)\n",
              "        (2): ReLU(inplace=True)\n",
              "        (3): Conv2d(512, 512, kernel_size=(3, 3), stride=(1, 1), padding=(1, 1), bias=False)\n",
              "        (4): BatchNorm2d(512, eps=1e-05, momentum=0.1, affine=True, track_running_stats=True)\n",
              "      )\n",
              "    )\n",
              "  )\n",
              "  (avgpool): AdaptiveAvgPool2d(output_size=(1, 1))\n",
              "  (fc): Linear(in_features=512, out_features=10, bias=True)\n",
              ")"
            ]
          },
          "execution_count": 17,
          "metadata": {},
          "output_type": "execute_result"
        }
      ],
      "source": [
        "# Build user-defined ResNet model\n",
        "model_scratch = ResNet(3, 10)\n",
        "model_scratch"
      ]
    },
    {
      "cell_type": "code",
      "execution_count": 18,
      "metadata": {},
      "outputs": [
        {
          "name": "stdout",
          "output_type": "stream",
          "text": [
            "cuda\n"
          ]
        }
      ],
      "source": [
        "device = torch.device(\"cuda\" if torch.cuda.is_available() else \"cpu\")\n",
        "print(device)"
      ]
    },
    {
      "cell_type": "code",
      "execution_count": 19,
      "metadata": {},
      "outputs": [
        {
          "data": {
            "text/plain": [
              "ResNet(\n",
              "  (enc): ConvBlock(\n",
              "    (convblk): Sequential(\n",
              "      (0): Conv2d(3, 64, kernel_size=(7, 7), stride=(2, 2), padding=(1, 1), bias=False)\n",
              "      (1): BatchNorm2d(64, eps=1e-05, momentum=0.1, affine=True, track_running_stats=True)\n",
              "      (2): ReLU(inplace=True)\n",
              "    )\n",
              "  )\n",
              "  (max_pool): MaxPool2d(kernel_size=3, stride=2, padding=1, dilation=1, ceil_mode=False)\n",
              "  (layer1): Sequential(\n",
              "    (0): ResBlock(\n",
              "      (resblk): Sequential(\n",
              "        (0): Conv2d(64, 64, kernel_size=(3, 3), stride=(1, 1), padding=(1, 1), bias=False)\n",
              "        (1): BatchNorm2d(64, eps=1e-05, momentum=0.1, affine=True, track_running_stats=True)\n",
              "        (2): ReLU(inplace=True)\n",
              "        (3): Conv2d(64, 64, kernel_size=(3, 3), stride=(1, 1), padding=(1, 1), bias=False)\n",
              "        (4): BatchNorm2d(64, eps=1e-05, momentum=0.1, affine=True, track_running_stats=True)\n",
              "      )\n",
              "    )\n",
              "    (1): ResBlock(\n",
              "      (resblk): Sequential(\n",
              "        (0): Conv2d(64, 64, kernel_size=(3, 3), stride=(1, 1), padding=(1, 1), bias=False)\n",
              "        (1): BatchNorm2d(64, eps=1e-05, momentum=0.1, affine=True, track_running_stats=True)\n",
              "        (2): ReLU(inplace=True)\n",
              "        (3): Conv2d(64, 64, kernel_size=(3, 3), stride=(1, 1), padding=(1, 1), bias=False)\n",
              "        (4): BatchNorm2d(64, eps=1e-05, momentum=0.1, affine=True, track_running_stats=True)\n",
              "      )\n",
              "    )\n",
              "    (2): ResBlock(\n",
              "      (resblk): Sequential(\n",
              "        (0): Conv2d(64, 64, kernel_size=(3, 3), stride=(1, 1), padding=(1, 1), bias=False)\n",
              "        (1): BatchNorm2d(64, eps=1e-05, momentum=0.1, affine=True, track_running_stats=True)\n",
              "        (2): ReLU(inplace=True)\n",
              "        (3): Conv2d(64, 64, kernel_size=(3, 3), stride=(1, 1), padding=(1, 1), bias=False)\n",
              "        (4): BatchNorm2d(64, eps=1e-05, momentum=0.1, affine=True, track_running_stats=True)\n",
              "      )\n",
              "    )\n",
              "  )\n",
              "  (layer2): Sequential(\n",
              "    (0): ResBlock(\n",
              "      (resblk): Sequential(\n",
              "        (0): Conv2d(64, 128, kernel_size=(3, 3), stride=(2, 2), padding=(1, 1), bias=False)\n",
              "        (1): BatchNorm2d(128, eps=1e-05, momentum=0.1, affine=True, track_running_stats=True)\n",
              "        (2): ReLU(inplace=True)\n",
              "        (3): Conv2d(128, 128, kernel_size=(3, 3), stride=(1, 1), padding=(1, 1), bias=False)\n",
              "        (4): BatchNorm2d(128, eps=1e-05, momentum=0.1, affine=True, track_running_stats=True)\n",
              "      )\n",
              "      (downsample): Sequential(\n",
              "        (0): Conv2d(64, 128, kernel_size=(1, 1), stride=(2, 2), bias=False)\n",
              "        (1): BatchNorm2d(128, eps=1e-05, momentum=0.1, affine=True, track_running_stats=True)\n",
              "      )\n",
              "    )\n",
              "    (1): ResBlock(\n",
              "      (resblk): Sequential(\n",
              "        (0): Conv2d(128, 128, kernel_size=(3, 3), stride=(1, 1), padding=(1, 1), bias=False)\n",
              "        (1): BatchNorm2d(128, eps=1e-05, momentum=0.1, affine=True, track_running_stats=True)\n",
              "        (2): ReLU(inplace=True)\n",
              "        (3): Conv2d(128, 128, kernel_size=(3, 3), stride=(1, 1), padding=(1, 1), bias=False)\n",
              "        (4): BatchNorm2d(128, eps=1e-05, momentum=0.1, affine=True, track_running_stats=True)\n",
              "      )\n",
              "    )\n",
              "    (2): ResBlock(\n",
              "      (resblk): Sequential(\n",
              "        (0): Conv2d(128, 128, kernel_size=(3, 3), stride=(1, 1), padding=(1, 1), bias=False)\n",
              "        (1): BatchNorm2d(128, eps=1e-05, momentum=0.1, affine=True, track_running_stats=True)\n",
              "        (2): ReLU(inplace=True)\n",
              "        (3): Conv2d(128, 128, kernel_size=(3, 3), stride=(1, 1), padding=(1, 1), bias=False)\n",
              "        (4): BatchNorm2d(128, eps=1e-05, momentum=0.1, affine=True, track_running_stats=True)\n",
              "      )\n",
              "    )\n",
              "    (3): ResBlock(\n",
              "      (resblk): Sequential(\n",
              "        (0): Conv2d(128, 128, kernel_size=(3, 3), stride=(1, 1), padding=(1, 1), bias=False)\n",
              "        (1): BatchNorm2d(128, eps=1e-05, momentum=0.1, affine=True, track_running_stats=True)\n",
              "        (2): ReLU(inplace=True)\n",
              "        (3): Conv2d(128, 128, kernel_size=(3, 3), stride=(1, 1), padding=(1, 1), bias=False)\n",
              "        (4): BatchNorm2d(128, eps=1e-05, momentum=0.1, affine=True, track_running_stats=True)\n",
              "      )\n",
              "    )\n",
              "  )\n",
              "  (layer3): Sequential(\n",
              "    (0): ResBlock(\n",
              "      (resblk): Sequential(\n",
              "        (0): Conv2d(128, 256, kernel_size=(3, 3), stride=(2, 2), padding=(1, 1), bias=False)\n",
              "        (1): BatchNorm2d(256, eps=1e-05, momentum=0.1, affine=True, track_running_stats=True)\n",
              "        (2): ReLU(inplace=True)\n",
              "        (3): Conv2d(256, 256, kernel_size=(3, 3), stride=(1, 1), padding=(1, 1), bias=False)\n",
              "        (4): BatchNorm2d(256, eps=1e-05, momentum=0.1, affine=True, track_running_stats=True)\n",
              "      )\n",
              "      (downsample): Sequential(\n",
              "        (0): Conv2d(128, 256, kernel_size=(1, 1), stride=(2, 2), bias=False)\n",
              "        (1): BatchNorm2d(256, eps=1e-05, momentum=0.1, affine=True, track_running_stats=True)\n",
              "      )\n",
              "    )\n",
              "    (1): ResBlock(\n",
              "      (resblk): Sequential(\n",
              "        (0): Conv2d(256, 256, kernel_size=(3, 3), stride=(1, 1), padding=(1, 1), bias=False)\n",
              "        (1): BatchNorm2d(256, eps=1e-05, momentum=0.1, affine=True, track_running_stats=True)\n",
              "        (2): ReLU(inplace=True)\n",
              "        (3): Conv2d(256, 256, kernel_size=(3, 3), stride=(1, 1), padding=(1, 1), bias=False)\n",
              "        (4): BatchNorm2d(256, eps=1e-05, momentum=0.1, affine=True, track_running_stats=True)\n",
              "      )\n",
              "    )\n",
              "    (2): ResBlock(\n",
              "      (resblk): Sequential(\n",
              "        (0): Conv2d(256, 256, kernel_size=(3, 3), stride=(1, 1), padding=(1, 1), bias=False)\n",
              "        (1): BatchNorm2d(256, eps=1e-05, momentum=0.1, affine=True, track_running_stats=True)\n",
              "        (2): ReLU(inplace=True)\n",
              "        (3): Conv2d(256, 256, kernel_size=(3, 3), stride=(1, 1), padding=(1, 1), bias=False)\n",
              "        (4): BatchNorm2d(256, eps=1e-05, momentum=0.1, affine=True, track_running_stats=True)\n",
              "      )\n",
              "    )\n",
              "    (3): ResBlock(\n",
              "      (resblk): Sequential(\n",
              "        (0): Conv2d(256, 256, kernel_size=(3, 3), stride=(1, 1), padding=(1, 1), bias=False)\n",
              "        (1): BatchNorm2d(256, eps=1e-05, momentum=0.1, affine=True, track_running_stats=True)\n",
              "        (2): ReLU(inplace=True)\n",
              "        (3): Conv2d(256, 256, kernel_size=(3, 3), stride=(1, 1), padding=(1, 1), bias=False)\n",
              "        (4): BatchNorm2d(256, eps=1e-05, momentum=0.1, affine=True, track_running_stats=True)\n",
              "      )\n",
              "    )\n",
              "    (4): ResBlock(\n",
              "      (resblk): Sequential(\n",
              "        (0): Conv2d(256, 256, kernel_size=(3, 3), stride=(1, 1), padding=(1, 1), bias=False)\n",
              "        (1): BatchNorm2d(256, eps=1e-05, momentum=0.1, affine=True, track_running_stats=True)\n",
              "        (2): ReLU(inplace=True)\n",
              "        (3): Conv2d(256, 256, kernel_size=(3, 3), stride=(1, 1), padding=(1, 1), bias=False)\n",
              "        (4): BatchNorm2d(256, eps=1e-05, momentum=0.1, affine=True, track_running_stats=True)\n",
              "      )\n",
              "    )\n",
              "    (5): ResBlock(\n",
              "      (resblk): Sequential(\n",
              "        (0): Conv2d(256, 256, kernel_size=(3, 3), stride=(1, 1), padding=(1, 1), bias=False)\n",
              "        (1): BatchNorm2d(256, eps=1e-05, momentum=0.1, affine=True, track_running_stats=True)\n",
              "        (2): ReLU(inplace=True)\n",
              "        (3): Conv2d(256, 256, kernel_size=(3, 3), stride=(1, 1), padding=(1, 1), bias=False)\n",
              "        (4): BatchNorm2d(256, eps=1e-05, momentum=0.1, affine=True, track_running_stats=True)\n",
              "      )\n",
              "    )\n",
              "  )\n",
              "  (layer4): Sequential(\n",
              "    (0): ResBlock(\n",
              "      (resblk): Sequential(\n",
              "        (0): Conv2d(256, 512, kernel_size=(3, 3), stride=(2, 2), padding=(1, 1), bias=False)\n",
              "        (1): BatchNorm2d(512, eps=1e-05, momentum=0.1, affine=True, track_running_stats=True)\n",
              "        (2): ReLU(inplace=True)\n",
              "        (3): Conv2d(512, 512, kernel_size=(3, 3), stride=(1, 1), padding=(1, 1), bias=False)\n",
              "        (4): BatchNorm2d(512, eps=1e-05, momentum=0.1, affine=True, track_running_stats=True)\n",
              "      )\n",
              "      (downsample): Sequential(\n",
              "        (0): Conv2d(256, 512, kernel_size=(1, 1), stride=(2, 2), bias=False)\n",
              "        (1): BatchNorm2d(512, eps=1e-05, momentum=0.1, affine=True, track_running_stats=True)\n",
              "      )\n",
              "    )\n",
              "    (1): ResBlock(\n",
              "      (resblk): Sequential(\n",
              "        (0): Conv2d(512, 512, kernel_size=(3, 3), stride=(1, 1), padding=(1, 1), bias=False)\n",
              "        (1): BatchNorm2d(512, eps=1e-05, momentum=0.1, affine=True, track_running_stats=True)\n",
              "        (2): ReLU(inplace=True)\n",
              "        (3): Conv2d(512, 512, kernel_size=(3, 3), stride=(1, 1), padding=(1, 1), bias=False)\n",
              "        (4): BatchNorm2d(512, eps=1e-05, momentum=0.1, affine=True, track_running_stats=True)\n",
              "      )\n",
              "    )\n",
              "    (2): ResBlock(\n",
              "      (resblk): Sequential(\n",
              "        (0): Conv2d(512, 512, kernel_size=(3, 3), stride=(1, 1), padding=(1, 1), bias=False)\n",
              "        (1): BatchNorm2d(512, eps=1e-05, momentum=0.1, affine=True, track_running_stats=True)\n",
              "        (2): ReLU(inplace=True)\n",
              "        (3): Conv2d(512, 512, kernel_size=(3, 3), stride=(1, 1), padding=(1, 1), bias=False)\n",
              "        (4): BatchNorm2d(512, eps=1e-05, momentum=0.1, affine=True, track_running_stats=True)\n",
              "      )\n",
              "    )\n",
              "  )\n",
              "  (avgpool): AdaptiveAvgPool2d(output_size=(1, 1))\n",
              "  (fc): Linear(in_features=512, out_features=10, bias=True)\n",
              ")"
            ]
          },
          "execution_count": 19,
          "metadata": {},
          "output_type": "execute_result"
        }
      ],
      "source": [
        "model_scratch.to(device)"
      ]
    },
    {
      "cell_type": "code",
      "execution_count": 20,
      "metadata": {
        "id": "nu1bm42vDtb_"
      },
      "outputs": [],
      "source": [
        "# Loss function and Optimizer\n",
        "from torch.optim import Adam\n",
        "\n",
        "criterion = nn.CrossEntropyLoss()\n",
        "optimizer = Adam(model_scratch.parameters(), lr=1e-4)"
      ]
    },
    {
      "cell_type": "code",
      "execution_count": 21,
      "metadata": {
        "id": "CKZTQB1kH1Dh"
      },
      "outputs": [],
      "source": [
        "log_dir ='./log'"
      ]
    },
    {
      "cell_type": "code",
      "execution_count": 22,
      "metadata": {
        "id": "IuMv3Fxin0-O"
      },
      "outputs": [],
      "source": [
        "# quickdraw train/validatoin dataset and dataloader\n",
        "qd_train_dataset = QuickDrawDataset(train_data, train_label, transform)\n",
        "qd_val_dataset = QuickDrawDataset(val_data, val_label, transform)\n",
        "\n",
        "qd_train_dataloader = DataLoader(qd_train_dataset, batch_size=256, shuffle=True)\n",
        "qd_val_dataloader = DataLoader(qd_val_dataset, batch_size=256, shuffle=True)"
      ]
    },
    {
      "cell_type": "code",
      "execution_count": 23,
      "metadata": {
        "id": "Un_E8XaSn4S-"
      },
      "outputs": [],
      "source": [
        "# Misc\n",
        "class AverageMeter(object):\n",
        "  \"\"\"Computes and stores the average and current value\"\"\"\n",
        "  def __init__(self):\n",
        "      self.reset()\n",
        "\n",
        "  def reset(self):\n",
        "    self.val = 0\n",
        "    self.avg = 0\n",
        "    self.sum = 0\n",
        "    self.count = 0\n",
        "\n",
        "  def update(self, val, n=1):\n",
        "    self.val = val\n",
        "    self.sum += val * n\n",
        "    self.count += n\n",
        "    self.avg = self.sum / self.count"
      ]
    },
    {
      "cell_type": "markdown",
      "metadata": {
        "id": "GFajikowlGQo"
      },
      "source": [
        "## TO DO (2)\n",
        "아래 구조를 참고하여 학습 코드를 구현 후 학습하세요.\n",
        "\n",
        "*아래 구조를 바꿔도 되지만 scratch_train_log.csv 파일에 iter, loss 등 학습 내용을 꼭 기록해야 합니다.  \n",
        "\n",
        "*어렵다면 아래 finetuning 코드를 참고해도 좋습니다. "
      ]
    },
    {
      "cell_type": "code",
      "execution_count": 24,
      "metadata": {
        "id": "Fm5DWDr9BPax"
      },
      "outputs": [
        {
          "name": "stderr",
          "output_type": "stream",
          "text": [
            "/opt/conda/lib/python3.8/site-packages/torchvision/transforms/functional.py:126: UserWarning: The given NumPy array is not writeable, and PyTorch does not support non-writeable tensors. This means you can write to the underlying (supposedly non-writeable) NumPy array using the tensor. You may want to copy the array to protect its data or make it writeable before converting it to a tensor. This type of warning will be suppressed for the rest of this program. (Triggered internally at  ../torch/csrc/utils/tensor_numpy.cpp:189.)\n",
            "  img = torch.from_numpy(pic.transpose((2, 0, 1))).contiguous()\n"
          ]
        },
        {
          "name": "stdout",
          "output_type": "stream",
          "text": [
            "Iter [  0/176] | Train Loss 2.4663 | Train Acc 0.1250 | Valid Loss 2.3010 | Valid Acc 0.1000\n",
            "Iter [ 20/176] | Train Loss 2.0877 | Train Acc 0.1953 | Valid Loss 2.1061 | Valid Acc 0.1862\n",
            "Iter [ 40/176] | Train Loss 1.8901 | Train Acc 0.3047 | Valid Loss 1.7783 | Valid Acc 0.3874\n",
            "Iter [ 60/176] | Train Loss 1.5589 | Train Acc 0.4727 | Valid Loss 1.5262 | Valid Acc 0.4734\n",
            "Iter [ 80/176] | Train Loss 1.3758 | Train Acc 0.5391 | Valid Loss 1.4203 | Valid Acc 0.5352\n",
            "Iter [100/176] | Train Loss 1.3390 | Train Acc 0.5781 | Valid Loss 1.2867 | Valid Acc 0.5698\n",
            "Iter [120/176] | Train Loss 1.2543 | Train Acc 0.5977 | Valid Loss 1.1166 | Valid Acc 0.6450\n",
            "Iter [140/176] | Train Loss 0.9184 | Train Acc 0.7188 | Valid Loss 0.9607 | Valid Acc 0.7176\n",
            "Iter [160/176] | Train Loss 1.2084 | Train Acc 0.6328 | Valid Loss 1.1835 | Valid Acc 0.6328\n",
            "Iter [175/176] | Train Loss 0.8796 | Train Acc 0.7600 | Valid Loss 0.8601 | Valid Acc 0.7442\n"
          ]
        }
      ],
      "source": [
        "# Main\n",
        "os.makedirs(log_dir, exist_ok=True)\n",
        "\n",
        "with open(os.path.join(log_dir, 'scratch_train_log.csv'), 'w') as log:\n",
        "  # Training\n",
        "  model_scratch.train()\n",
        "  for iter, (img, label) in enumerate(qd_train_dataloader):\n",
        "\n",
        "\n",
        "\n",
        "\n",
        "      ##fill##\n",
        "\n",
        "    # 학습에 사용하기 위한 image, label 처리 (필요한 경우, data type도 변경해주세요)\n",
        "    img, label = img.float().cuda(), label.long().cuda()\n",
        "\n",
        "    # implementing zero_grad ~ step\n",
        "    optimizer.zero_grad()\n",
        "\n",
        "    # 모델에 이미지 forward 1\n",
        "    pred_logit = model_scratch(img)\n",
        "\n",
        "    # loss 값 계산\n",
        "    loss = criterion(pred_logit, label)\n",
        "\n",
        "    # Backpropagation\n",
        "    loss.backward()\n",
        "    optimizer.step()\n",
        "\n",
        "    # Accuracy 계산\n",
        "    pred_label = torch.argmax(pred_logit, 1)\n",
        "    acc = (pred_label == label).sum().item() / len(img)\n",
        "\n",
        "    train_loss = loss.item()\n",
        "    train_acc = acc\n",
        "\n",
        "\n",
        "    # Validation \n",
        "    if (iter % 20 == 0) or (iter == len(qd_train_dataloader)-1):\n",
        "      model_scratch.eval()\n",
        "      valid_loss, valid_acc = AverageMeter(), AverageMeter()\n",
        "\n",
        "      for img, label in qd_val_dataloader:\n",
        "\n",
        "          ##fill##\n",
        "        # Validation에 사용하기 위한 image, label 처리 (필요한 경우, data type도 변경해주세요)\n",
        "        img, label = img.float().cuda(), label.long().cuda()\n",
        "\n",
        "        # 모델에 이미지 forward (gradient 계산 X)\n",
        "        with torch.no_grad():\n",
        "          pred_logit = model_scratch(img)\n",
        "\n",
        "        # loss 값 계산\n",
        "        loss = criterion(pred_logit, label)\n",
        "\n",
        "        # Accuracy 계산\n",
        "        pred_label = torch.argmax(pred_logit, 1)\n",
        "        acc = (pred_label == label).sum().item() / len(img)\n",
        "\n",
        "        valid_loss.update(loss.item(), len(img))\n",
        "        valid_acc.update(acc, len(img))\n",
        "\n",
        "      valid_loss = valid_loss.avg\n",
        "      valid_acc = valid_acc.avg\n",
        "\n",
        "\n",
        "      print(\"Iter [%3d/%3d] | Train Loss %.4f | Train Acc %.4f | Valid Loss %.4f | Valid Acc %.4f\" %\n",
        "            (iter, len(qd_train_dataloader), train_loss, train_acc, valid_loss, valid_acc))\n",
        "      \n",
        "      # Train Log Writing\n",
        "      log.write('%d,%.4f,%.4f,%.4f,%.4f\\n'%(iter, train_loss, train_acc, valid_loss, valid_acc))"
      ]
    },
    {
      "cell_type": "markdown",
      "metadata": {
        "id": "NuC7ESBFDD8R"
      },
      "source": [
        "## Fine-tuning ResNet-34 with pretrained feature extractor\n",
        "이번에는 torchvision에서 제공하는 pretrained ResNet-34 을 이용한 fine-tuning 학습을 진행하게 됩니다. Fine-tuning의 경우도 기본적인 training 방법은 동일하지만, 이번에는 모든 parameter를 처음부터 학습하는 대신 **feature extractor는 기존 학습된 상태에서 고정하고 linear classifier만 새로 학습**한다는 차이가 있습니다. "
      ]
    },
    {
      "cell_type": "markdown",
      "metadata": {
        "id": "2qH94l11kDxC"
      },
      "source": [
        "## TO DO (3)\n",
        "1. torchvision에서 resnet34 pretrained 모델을 불러와 모든 파라미터를 freeze 하고,   \n",
        "2. 마지막 linear classifier를 10차원으로 mappping 하게 수정해주세요.\n",
        "\n",
        "*마지막 layer는 학습 가능해야합니다."
      ]
    },
    {
      "cell_type": "code",
      "execution_count": 25,
      "metadata": {
        "id": "UMqSkZF9ERRR"
      },
      "outputs": [
        {
          "data": {
            "text/plain": [
              "ResNet(\n",
              "  (conv1): Conv2d(3, 64, kernel_size=(7, 7), stride=(2, 2), padding=(3, 3), bias=False)\n",
              "  (bn1): BatchNorm2d(64, eps=1e-05, momentum=0.1, affine=True, track_running_stats=True)\n",
              "  (relu): ReLU(inplace=True)\n",
              "  (maxpool): MaxPool2d(kernel_size=3, stride=2, padding=1, dilation=1, ceil_mode=False)\n",
              "  (layer1): Sequential(\n",
              "    (0): BasicBlock(\n",
              "      (conv1): Conv2d(64, 64, kernel_size=(3, 3), stride=(1, 1), padding=(1, 1), bias=False)\n",
              "      (bn1): BatchNorm2d(64, eps=1e-05, momentum=0.1, affine=True, track_running_stats=True)\n",
              "      (relu): ReLU(inplace=True)\n",
              "      (conv2): Conv2d(64, 64, kernel_size=(3, 3), stride=(1, 1), padding=(1, 1), bias=False)\n",
              "      (bn2): BatchNorm2d(64, eps=1e-05, momentum=0.1, affine=True, track_running_stats=True)\n",
              "    )\n",
              "    (1): BasicBlock(\n",
              "      (conv1): Conv2d(64, 64, kernel_size=(3, 3), stride=(1, 1), padding=(1, 1), bias=False)\n",
              "      (bn1): BatchNorm2d(64, eps=1e-05, momentum=0.1, affine=True, track_running_stats=True)\n",
              "      (relu): ReLU(inplace=True)\n",
              "      (conv2): Conv2d(64, 64, kernel_size=(3, 3), stride=(1, 1), padding=(1, 1), bias=False)\n",
              "      (bn2): BatchNorm2d(64, eps=1e-05, momentum=0.1, affine=True, track_running_stats=True)\n",
              "    )\n",
              "    (2): BasicBlock(\n",
              "      (conv1): Conv2d(64, 64, kernel_size=(3, 3), stride=(1, 1), padding=(1, 1), bias=False)\n",
              "      (bn1): BatchNorm2d(64, eps=1e-05, momentum=0.1, affine=True, track_running_stats=True)\n",
              "      (relu): ReLU(inplace=True)\n",
              "      (conv2): Conv2d(64, 64, kernel_size=(3, 3), stride=(1, 1), padding=(1, 1), bias=False)\n",
              "      (bn2): BatchNorm2d(64, eps=1e-05, momentum=0.1, affine=True, track_running_stats=True)\n",
              "    )\n",
              "  )\n",
              "  (layer2): Sequential(\n",
              "    (0): BasicBlock(\n",
              "      (conv1): Conv2d(64, 128, kernel_size=(3, 3), stride=(2, 2), padding=(1, 1), bias=False)\n",
              "      (bn1): BatchNorm2d(128, eps=1e-05, momentum=0.1, affine=True, track_running_stats=True)\n",
              "      (relu): ReLU(inplace=True)\n",
              "      (conv2): Conv2d(128, 128, kernel_size=(3, 3), stride=(1, 1), padding=(1, 1), bias=False)\n",
              "      (bn2): BatchNorm2d(128, eps=1e-05, momentum=0.1, affine=True, track_running_stats=True)\n",
              "      (downsample): Sequential(\n",
              "        (0): Conv2d(64, 128, kernel_size=(1, 1), stride=(2, 2), bias=False)\n",
              "        (1): BatchNorm2d(128, eps=1e-05, momentum=0.1, affine=True, track_running_stats=True)\n",
              "      )\n",
              "    )\n",
              "    (1): BasicBlock(\n",
              "      (conv1): Conv2d(128, 128, kernel_size=(3, 3), stride=(1, 1), padding=(1, 1), bias=False)\n",
              "      (bn1): BatchNorm2d(128, eps=1e-05, momentum=0.1, affine=True, track_running_stats=True)\n",
              "      (relu): ReLU(inplace=True)\n",
              "      (conv2): Conv2d(128, 128, kernel_size=(3, 3), stride=(1, 1), padding=(1, 1), bias=False)\n",
              "      (bn2): BatchNorm2d(128, eps=1e-05, momentum=0.1, affine=True, track_running_stats=True)\n",
              "    )\n",
              "    (2): BasicBlock(\n",
              "      (conv1): Conv2d(128, 128, kernel_size=(3, 3), stride=(1, 1), padding=(1, 1), bias=False)\n",
              "      (bn1): BatchNorm2d(128, eps=1e-05, momentum=0.1, affine=True, track_running_stats=True)\n",
              "      (relu): ReLU(inplace=True)\n",
              "      (conv2): Conv2d(128, 128, kernel_size=(3, 3), stride=(1, 1), padding=(1, 1), bias=False)\n",
              "      (bn2): BatchNorm2d(128, eps=1e-05, momentum=0.1, affine=True, track_running_stats=True)\n",
              "    )\n",
              "    (3): BasicBlock(\n",
              "      (conv1): Conv2d(128, 128, kernel_size=(3, 3), stride=(1, 1), padding=(1, 1), bias=False)\n",
              "      (bn1): BatchNorm2d(128, eps=1e-05, momentum=0.1, affine=True, track_running_stats=True)\n",
              "      (relu): ReLU(inplace=True)\n",
              "      (conv2): Conv2d(128, 128, kernel_size=(3, 3), stride=(1, 1), padding=(1, 1), bias=False)\n",
              "      (bn2): BatchNorm2d(128, eps=1e-05, momentum=0.1, affine=True, track_running_stats=True)\n",
              "    )\n",
              "  )\n",
              "  (layer3): Sequential(\n",
              "    (0): BasicBlock(\n",
              "      (conv1): Conv2d(128, 256, kernel_size=(3, 3), stride=(2, 2), padding=(1, 1), bias=False)\n",
              "      (bn1): BatchNorm2d(256, eps=1e-05, momentum=0.1, affine=True, track_running_stats=True)\n",
              "      (relu): ReLU(inplace=True)\n",
              "      (conv2): Conv2d(256, 256, kernel_size=(3, 3), stride=(1, 1), padding=(1, 1), bias=False)\n",
              "      (bn2): BatchNorm2d(256, eps=1e-05, momentum=0.1, affine=True, track_running_stats=True)\n",
              "      (downsample): Sequential(\n",
              "        (0): Conv2d(128, 256, kernel_size=(1, 1), stride=(2, 2), bias=False)\n",
              "        (1): BatchNorm2d(256, eps=1e-05, momentum=0.1, affine=True, track_running_stats=True)\n",
              "      )\n",
              "    )\n",
              "    (1): BasicBlock(\n",
              "      (conv1): Conv2d(256, 256, kernel_size=(3, 3), stride=(1, 1), padding=(1, 1), bias=False)\n",
              "      (bn1): BatchNorm2d(256, eps=1e-05, momentum=0.1, affine=True, track_running_stats=True)\n",
              "      (relu): ReLU(inplace=True)\n",
              "      (conv2): Conv2d(256, 256, kernel_size=(3, 3), stride=(1, 1), padding=(1, 1), bias=False)\n",
              "      (bn2): BatchNorm2d(256, eps=1e-05, momentum=0.1, affine=True, track_running_stats=True)\n",
              "    )\n",
              "    (2): BasicBlock(\n",
              "      (conv1): Conv2d(256, 256, kernel_size=(3, 3), stride=(1, 1), padding=(1, 1), bias=False)\n",
              "      (bn1): BatchNorm2d(256, eps=1e-05, momentum=0.1, affine=True, track_running_stats=True)\n",
              "      (relu): ReLU(inplace=True)\n",
              "      (conv2): Conv2d(256, 256, kernel_size=(3, 3), stride=(1, 1), padding=(1, 1), bias=False)\n",
              "      (bn2): BatchNorm2d(256, eps=1e-05, momentum=0.1, affine=True, track_running_stats=True)\n",
              "    )\n",
              "    (3): BasicBlock(\n",
              "      (conv1): Conv2d(256, 256, kernel_size=(3, 3), stride=(1, 1), padding=(1, 1), bias=False)\n",
              "      (bn1): BatchNorm2d(256, eps=1e-05, momentum=0.1, affine=True, track_running_stats=True)\n",
              "      (relu): ReLU(inplace=True)\n",
              "      (conv2): Conv2d(256, 256, kernel_size=(3, 3), stride=(1, 1), padding=(1, 1), bias=False)\n",
              "      (bn2): BatchNorm2d(256, eps=1e-05, momentum=0.1, affine=True, track_running_stats=True)\n",
              "    )\n",
              "    (4): BasicBlock(\n",
              "      (conv1): Conv2d(256, 256, kernel_size=(3, 3), stride=(1, 1), padding=(1, 1), bias=False)\n",
              "      (bn1): BatchNorm2d(256, eps=1e-05, momentum=0.1, affine=True, track_running_stats=True)\n",
              "      (relu): ReLU(inplace=True)\n",
              "      (conv2): Conv2d(256, 256, kernel_size=(3, 3), stride=(1, 1), padding=(1, 1), bias=False)\n",
              "      (bn2): BatchNorm2d(256, eps=1e-05, momentum=0.1, affine=True, track_running_stats=True)\n",
              "    )\n",
              "    (5): BasicBlock(\n",
              "      (conv1): Conv2d(256, 256, kernel_size=(3, 3), stride=(1, 1), padding=(1, 1), bias=False)\n",
              "      (bn1): BatchNorm2d(256, eps=1e-05, momentum=0.1, affine=True, track_running_stats=True)\n",
              "      (relu): ReLU(inplace=True)\n",
              "      (conv2): Conv2d(256, 256, kernel_size=(3, 3), stride=(1, 1), padding=(1, 1), bias=False)\n",
              "      (bn2): BatchNorm2d(256, eps=1e-05, momentum=0.1, affine=True, track_running_stats=True)\n",
              "    )\n",
              "  )\n",
              "  (layer4): Sequential(\n",
              "    (0): BasicBlock(\n",
              "      (conv1): Conv2d(256, 512, kernel_size=(3, 3), stride=(2, 2), padding=(1, 1), bias=False)\n",
              "      (bn1): BatchNorm2d(512, eps=1e-05, momentum=0.1, affine=True, track_running_stats=True)\n",
              "      (relu): ReLU(inplace=True)\n",
              "      (conv2): Conv2d(512, 512, kernel_size=(3, 3), stride=(1, 1), padding=(1, 1), bias=False)\n",
              "      (bn2): BatchNorm2d(512, eps=1e-05, momentum=0.1, affine=True, track_running_stats=True)\n",
              "      (downsample): Sequential(\n",
              "        (0): Conv2d(256, 512, kernel_size=(1, 1), stride=(2, 2), bias=False)\n",
              "        (1): BatchNorm2d(512, eps=1e-05, momentum=0.1, affine=True, track_running_stats=True)\n",
              "      )\n",
              "    )\n",
              "    (1): BasicBlock(\n",
              "      (conv1): Conv2d(512, 512, kernel_size=(3, 3), stride=(1, 1), padding=(1, 1), bias=False)\n",
              "      (bn1): BatchNorm2d(512, eps=1e-05, momentum=0.1, affine=True, track_running_stats=True)\n",
              "      (relu): ReLU(inplace=True)\n",
              "      (conv2): Conv2d(512, 512, kernel_size=(3, 3), stride=(1, 1), padding=(1, 1), bias=False)\n",
              "      (bn2): BatchNorm2d(512, eps=1e-05, momentum=0.1, affine=True, track_running_stats=True)\n",
              "    )\n",
              "    (2): BasicBlock(\n",
              "      (conv1): Conv2d(512, 512, kernel_size=(3, 3), stride=(1, 1), padding=(1, 1), bias=False)\n",
              "      (bn1): BatchNorm2d(512, eps=1e-05, momentum=0.1, affine=True, track_running_stats=True)\n",
              "      (relu): ReLU(inplace=True)\n",
              "      (conv2): Conv2d(512, 512, kernel_size=(3, 3), stride=(1, 1), padding=(1, 1), bias=False)\n",
              "      (bn2): BatchNorm2d(512, eps=1e-05, momentum=0.1, affine=True, track_running_stats=True)\n",
              "    )\n",
              "  )\n",
              "  (avgpool): AdaptiveAvgPool2d(output_size=(1, 1))\n",
              "  (fc): Linear(in_features=512, out_features=10, bias=True)\n",
              ")"
            ]
          },
          "execution_count": 25,
          "metadata": {},
          "output_type": "execute_result"
        }
      ],
      "source": [
        "from torchvision.models import resnet34\n",
        "\n",
        "\n",
        "\n",
        "##fill##\n",
        "model_finetune = resnet34(pretrained=True)\n",
        "for param in model_finetune.parameters():\n",
        "    param.requires_grad = False\n",
        "\n",
        "num_ftrs = model_finetune.fc.in_features\n",
        "model_finetune.fc = nn.Linear(num_ftrs, 10)\n",
        "\n",
        "model_finetune.cuda()"
      ]
    },
    {
      "cell_type": "code",
      "execution_count": 26,
      "metadata": {
        "id": "f9WrU6AfVdyi"
      },
      "outputs": [],
      "source": [
        "# Loss function and Optimizer\n",
        "from torch.optim import Adam\n",
        "\n",
        "criterion = nn.CrossEntropyLoss()\n",
        "optimizer_ft = Adam(model_finetune.parameters(), lr=1e-4)"
      ]
    },
    {
      "cell_type": "code",
      "execution_count": 27,
      "metadata": {
        "id": "zA8Kwg4MHfjE"
      },
      "outputs": [
        {
          "name": "stdout",
          "output_type": "stream",
          "text": [
            "Iter [  0/176] | Train Loss 2.4838 | Train Acc 0.1289 | Valid Loss 2.4562 | Valid Acc 0.0810\n",
            "Iter [ 20/176] | Train Loss 2.2928 | Train Acc 0.1445 | Valid Loss 2.2798 | Valid Acc 0.1620\n",
            "Iter [ 40/176] | Train Loss 2.1862 | Train Acc 0.2539 | Valid Loss 2.1759 | Valid Acc 0.2588\n",
            "Iter [ 60/176] | Train Loss 2.0568 | Train Acc 0.4102 | Valid Loss 2.0756 | Valid Acc 0.3736\n",
            "Iter [ 80/176] | Train Loss 1.9876 | Train Acc 0.4336 | Valid Loss 1.9812 | Valid Acc 0.4474\n",
            "Iter [100/176] | Train Loss 1.8879 | Train Acc 0.5078 | Valid Loss 1.8915 | Valid Acc 0.5234\n",
            "Iter [120/176] | Train Loss 1.8150 | Train Acc 0.5625 | Valid Loss 1.8063 | Valid Acc 0.5932\n",
            "Iter [140/176] | Train Loss 1.7299 | Train Acc 0.6406 | Valid Loss 1.7287 | Valid Acc 0.6476\n",
            "Iter [160/176] | Train Loss 1.6615 | Train Acc 0.6562 | Valid Loss 1.6554 | Valid Acc 0.6732\n",
            "Iter [175/176] | Train Loss 1.5576 | Train Acc 0.7350 | Valid Loss 1.6037 | Valid Acc 0.6900\n"
          ]
        }
      ],
      "source": [
        "# Main\n",
        "os.makedirs(log_dir, exist_ok=True)\n",
        "\n",
        "with open(os.path.join(log_dir, 'fine_tuned_train_log.csv'), 'w') as log:\n",
        "  # Training\n",
        "  model_finetune.train()\n",
        "  for iter, (img, label) in enumerate(qd_train_dataloader):\n",
        "\n",
        "    # 학습에 사용하기 위한 image, label 처리 (필요한 경우, data type도 변경해주세요)\n",
        "    img, label = img.float().cuda(), label.long().cuda()\n",
        "\n",
        "    # implementing zero_grad ~ step\n",
        "    optimizer_ft.zero_grad()\n",
        "\n",
        "    # 모델에 이미지 forward\n",
        "    pred_logit = model_finetune(img)\n",
        "\n",
        "    # loss 값 계산\n",
        "    loss = criterion(pred_logit, label)\n",
        "\n",
        "    # Backpropagation\n",
        "    loss.backward()\n",
        "    optimizer_ft.step()\n",
        "\n",
        "    # Accuracy 계산\n",
        "    pred_label = torch.argmax(pred_logit, 1)\n",
        "    acc = (pred_label == label).sum().item() / len(img)\n",
        "\n",
        "    train_loss = loss.item()\n",
        "    train_acc = acc\n",
        "\n",
        "    # Validation\n",
        "    if (iter % 20 == 0) or (iter == len(qd_train_dataloader)-1):\n",
        "      model_finetune.eval()\n",
        "      valid_loss, valid_acc = AverageMeter(), AverageMeter()\n",
        "\n",
        "      for img, label in qd_val_dataloader:\n",
        "        # Validation에 사용하기 위한 image, label 처리 (필요한 경우, data type도 변경해주세요)\n",
        "        img, label = img.float().cuda(), label.long().cuda()\n",
        "\n",
        "        # 모델에 이미지 forward (gradient 계산 X)\n",
        "        with torch.no_grad():\n",
        "          pred_logit = model_finetune(img)\n",
        "\n",
        "        # loss 값 계산\n",
        "        loss = criterion(pred_logit, label)\n",
        "\n",
        "        # Accuracy 계산\n",
        "        pred_label = torch.argmax(pred_logit, 1)\n",
        "        acc = (pred_label == label).sum().item() / len(img)\n",
        "\n",
        "        valid_loss.update(loss.item(), len(img))\n",
        "        valid_acc.update(acc, len(img))\n",
        "\n",
        "      valid_loss = valid_loss.avg\n",
        "      valid_acc = valid_acc.avg\n",
        "\n",
        "      print(\"Iter [%3d/%3d] | Train Loss %.4f | Train Acc %.4f | Valid Loss %.4f | Valid Acc %.4f\" %\n",
        "            (iter, len(qd_train_dataloader), train_loss, train_acc, valid_loss, valid_acc))\n",
        "      \n",
        "      # Train Log Writing\n",
        "      log.write('%d,%.4f,%.4f,%.4f,%.4f\\n'%(iter, train_loss, train_acc, valid_loss, valid_acc))"
      ]
    },
    {
      "cell_type": "markdown",
      "metadata": {
        "id": "ghBPEKbIEiq-"
      },
      "source": [
        "## Visualizing training results\n",
        "아래 코드는 training from scratch와 fine tuning의 학습 경향을 비교할 수 있는 그래프를 출력해주는 코드입니다. 수렴 속도, accuracy 등 학습 결과에서 확인할 수 있는 정보들을 통해 from scratch, fine tuning중 어떤 방법이 더 우수한지, 또 그 이유는 무엇인지 자유롭게 생각해보고 캠퍼분들과 논의해보세요!"
      ]
    },
    {
      "cell_type": "code",
      "execution_count": 28,
      "metadata": {
        "id": "DUUzXL47E5Fa"
      },
      "outputs": [],
      "source": [
        "# Load log file\n",
        "scratch_train_log = pd.read_csv(os.path.join(log_dir, 'scratch_train_log.csv'), index_col=0, header=None)\n",
        "fine_tuned_train_log = pd.read_csv(os.path.join(log_dir, 'fine_tuned_train_log.csv'), index_col=0, header=None)"
      ]
    },
    {
      "cell_type": "code",
      "execution_count": 29,
      "metadata": {
        "id": "jv_1nfnGE7so"
      },
      "outputs": [
        {
          "data": {
            "image/png": "[encoded data removed]",
            "text/plain": [
              "<Figure size 1080x576 with 2 Axes>"
            ]
          },
          "metadata": {
            "needs_background": "light"
          },
          "output_type": "display_data"
        }
      ],
      "source": [
        "# Visualize training log\n",
        "fig, (ax1, ax2) = plt.subplots(1, 2, figsize=(15,8))\n",
        "\n",
        "ax1.plot(scratch_train_log.iloc[:,0], label='Scratch Training')\n",
        "ax1.plot(fine_tuned_train_log.iloc[:,0], label='Fine Tuning')\n",
        "ax1.set_title('Training Loss Graph', fontsize=15)\n",
        "ax1.set_xlabel('Iteration', fontsize=15)\n",
        "ax1.set_ylabel('Loss', fontsize=15)\n",
        "\n",
        "fig.legend(fontsize=15)\n",
        "\n",
        "ax2.plot(scratch_train_log.iloc[:,1], label='Scratch Training')\n",
        "ax2.plot(fine_tuned_train_log.iloc[:,1], label='Fine Tuning')\n",
        "ax2.set_title('Training Accuracy Graph', fontsize=15)\n",
        "ax2.set_xlabel('Iteration', fontsize=15)\n",
        "ax2.set_ylabel('Accuracy', fontsize=15)\n",
        "\n",
        "plt.show()"
      ]
    },
    {
      "cell_type": "code",
      "execution_count": 30,
      "metadata": {
        "id": "LYhBa098E9C2"
      },
      "outputs": [
        {
          "data": {
            "image/png": "[encoded data removed]",
            "text/plain": [
              "<Figure size 1080x576 with 2 Axes>"
            ]
          },
          "metadata": {
            "needs_background": "light"
          },
          "output_type": "display_data"
        }
      ],
      "source": [
        "# Visualize validation log\n",
        "fig, (ax1, ax2) = plt.subplots(1, 2, figsize=(15,8))\n",
        "\n",
        "ax1.plot(scratch_train_log.iloc[:,2], label='Scratch Training')\n",
        "ax1.plot(fine_tuned_train_log.iloc[:,2], label='Fine Tuning')\n",
        "ax1.set_title('Validation Loss Graph', fontsize=15)\n",
        "ax1.set_xlabel('Iteration', fontsize=15)\n",
        "ax1.set_ylabel('Loss', fontsize=15)\n",
        "\n",
        "fig.legend(fontsize=15)\n",
        "\n",
        "ax2.plot(scratch_train_log.iloc[:,3], label='Scratch Training')\n",
        "ax2.plot(fine_tuned_train_log.iloc[:,3], label='Fine Tuning')\n",
        "ax2.set_title('Validation Accuracy Graph', fontsize=15)\n",
        "ax2.set_xlabel('Iteration', fontsize=15)\n",
        "ax2.set_ylabel('Accuracy', fontsize=15)\n",
        "\n",
        "plt.show()"
      ]
    }
  ],
  "metadata": {
    "accelerator": "GPU",
    "colab": {
      "collapsed_sections": [
        "pcDoom-87xX4"
      ],
      "name": "(기본) 1번 과제 - Resnet Implementation - Image Classification (문제).ipynb",
      "provenance": []
    },
    "kernelspec": {
      "display_name": "Python 3",
      "name": "python3"
    },
    "language_info": {
      "codemirror_mode": {
        "name": "ipython",
        "version": 3
      },
      "file_extension": ".py",
      "mimetype": "text/x-python",
      "name": "python",
      "nbconvert_exporter": "python",
      "pygments_lexer": "ipython3",
      "version": "3.8.5"
    }
  },
  "nbformat": 4,
  "nbformat_minor": 0
}
