{
  "nbformat": 4,
  "nbformat_minor": 0,
  "metadata": {
    "colab": {
      "name": "Level2_1w_2  Training with Data Augmentation.ipynb",
      "provenance": [],
      "collapsed_sections": []
    },
    "kernelspec": {
      "name": "python3",
      "display_name": "Python 3"
    },
    "language_info": {
      "name": "python"
    },
    "accelerator": "GPU"
  },
  "cells": [
    {
      "cell_type": "markdown",
      "metadata": {
        "id": "-FdOxP8_-kGT"
      },
      "source": [
        "# 기본과제 2 : Data augmentation for Quickdraw datset\n",
        "\n",
        "\n",
        "\n"
      ]
    },
    {
      "cell_type": "markdown",
      "metadata": {
        "id": "EQpGCaVX-ry8"
      },
      "source": [
        "기본과제 2번에서는 Quickdraw dataset에 대한 성능을 높이기 위한 다양한 image data augmentation을 사용해보게 됩니다. Data augmentation은 diverse한 image 생성을 통해 overfitting 방지하거나, 일종의 interpolation을 통한 data distribution 공간을 보다 dense하게 만드는 효과를 내 학습을 쉽게 하는 등의 효과가 있습니다. 이 과제에서는 무작위로 augmentation을 적용하는 것 보다, 학습 dataset 특성에 맞는 다양한 augmentation을 적용해보고 그 효과를 평가해보는 것이 목표입니다."
      ]
    },
    {
      "cell_type": "markdown",
      "metadata": {
        "id": "E2koBPX1_T0b"
      },
      "source": [
        "## Quickdraw dataset\n",
        "아래 코드는 기본과제 1에서와 동일한 Quickdraw dataset의 준비 코드입니다. 다만, 이번 과제에서는 augmentation을 적용하기 위해 직접 transform을 정의하고, 해당 transformation을 torch.utils.data.Dataset class인 QuickDrawDataset에 직접 전달해주어야 하기 때문에, 해당 부분을 확인하실 수 있게 아래 코드로 독립시켜두었습니다."
      ]
    },
    {
      "cell_type": "code",
      "metadata": {
        "colab": {
          "base_uri": "https://localhost:8080/"
        },
        "id": "XR1bH4WF6qBP",
        "outputId": "a28793d6-4ce6-4126-9b06-ea05590d0a66"
      },
      "source": [
        "!pip3 install quickdraw"
      ],
      "execution_count": null,
      "outputs": [
        {
          "output_type": "stream",
          "name": "stdout",
          "text": [
            "Requirement already satisfied: quickdraw in /usr/local/lib/python3.7/dist-packages (0.2.0)\n",
            "Requirement already satisfied: requests in /usr/local/lib/python3.7/dist-packages (from quickdraw) (2.23.0)\n",
            "Requirement already satisfied: pillow in /usr/local/lib/python3.7/dist-packages (from quickdraw) (7.1.2)\n",
            "Requirement already satisfied: chardet<4,>=3.0.2 in /usr/local/lib/python3.7/dist-packages (from requests->quickdraw) (3.0.4)\n",
            "Requirement already satisfied: certifi>=2017.4.17 in /usr/local/lib/python3.7/dist-packages (from requests->quickdraw) (2021.10.8)\n",
            "Requirement already satisfied: urllib3!=1.25.0,!=1.25.1,<1.26,>=1.21.1 in /usr/local/lib/python3.7/dist-packages (from requests->quickdraw) (1.24.3)\n",
            "Requirement already satisfied: idna<3,>=2.5 in /usr/local/lib/python3.7/dist-packages (from requests->quickdraw) (2.10)\n"
          ]
        }
      ]
    },
    {
      "cell_type": "code",
      "metadata": {
        "id": "04jAy3qh7Lpj"
      },
      "source": [
        "from quickdraw import QuickDrawData, QuickDrawDataGroup\n",
        "import torch\n",
        "from torch.utils.data import Dataset, DataLoader\n",
        "from torchvision import transforms, utils\n",
        "import itertools\n",
        "import matplotlib.pyplot as plt\n",
        "import os\n",
        "import numpy as np\n",
        "import torch.nn as nn\n",
        "import albumentations\n",
        "import albumentations.pytorch\n",
        "import pandas as pd"
      ],
      "execution_count": null,
      "outputs": []
    },
    {
      "cell_type": "code",
      "metadata": {
        "id": "RVpsG6D7IXFq"
      },
      "source": [
        "num_img_per_class = 300\n",
        "qd = QuickDrawData(max_drawings=num_img_per_class)"
      ],
      "execution_count": null,
      "outputs": []
    },
    {
      "cell_type": "code",
      "metadata": {
        "id": "PGvx6OkPCcg9"
      },
      "source": [
        "import random\n",
        "seed = 111\n",
        "\n",
        "torch.manual_seed(seed)\n",
        "torch.cuda.manual_seed(seed)\n",
        "torch.cuda.manual_seed_all(seed)  # if use multi-GPU\n",
        "torch.backends.cudnn.deterministic = True\n",
        "torch.backends.cudnn.benchmark = False\n",
        "np.random.seed(seed)\n",
        "random.seed(seed)"
      ],
      "execution_count": null,
      "outputs": []
    },
    {
      "cell_type": "code",
      "metadata": {
        "id": "GRk-2HBhBb99"
      },
      "source": [
        "class_list = ['apple', 'wine bottle', 'spoon', 'rainbow', 'panda', 'hospital', 'scissors', 'toothpaste', 'baseball', 'hourglass']\n",
        "class_dict = {'apple' : 0, 'wine bottle' : 1, 'spoon' : 2, 'rainbow' : 3, 'panda': 4, 'hospital' : 5, 'scissors' : 6, 'toothpaste' : 7, 'baseball' : 8, 'hourglass' : 9}"
      ],
      "execution_count": null,
      "outputs": []
    },
    {
      "cell_type": "code",
      "metadata": {
        "colab": {
          "base_uri": "https://localhost:8080/"
        },
        "id": "70K8gdG69UI0",
        "outputId": "d57052af-43b0-440b-adb6-cb93a0d56c42"
      },
      "source": [
        "qd.load_drawings(class_list)"
      ],
      "execution_count": null,
      "outputs": [
        {
          "output_type": "stream",
          "name": "stdout",
          "text": [
            "loading apple drawings\n",
            "load complete\n",
            "loading wine bottle drawings\n",
            "load complete\n",
            "loading spoon drawings\n",
            "load complete\n",
            "loading rainbow drawings\n",
            "load complete\n",
            "loading panda drawings\n",
            "load complete\n",
            "loading hospital drawings\n",
            "load complete\n",
            "loading scissors drawings\n",
            "load complete\n",
            "loading toothpaste drawings\n",
            "load complete\n",
            "loading baseball drawings\n",
            "load complete\n",
            "loading hourglass drawings\n",
            "load complete\n"
          ]
        }
      ]
    },
    {
      "cell_type": "code",
      "metadata": {
        "colab": {
          "base_uri": "https://localhost:8080/"
        },
        "id": "0gqxlZUcCDXx",
        "outputId": "ffabc27e-62a4-4b06-cc7a-d14bf2bf9d44"
      },
      "source": [
        "train_data = list()\n",
        "val_data = list()\n",
        "train_label = list()\n",
        "val_label = list()\n",
        "for class_name in class_list:\n",
        "  qdgroup = QuickDrawDataGroup(class_name, max_drawings=num_img_per_class)\n",
        "  for i, img in enumerate(qdgroup.drawings):\n",
        "    if i < int(0.9 * num_img_per_class):\n",
        "      train_data.append(img.get_image())\n",
        "      train_label.append(class_dict[class_name])\n",
        "    else:\n",
        "      val_data.append(img.get_image())\n",
        "      val_label.append(class_dict[class_name])"
      ],
      "execution_count": null,
      "outputs": [
        {
          "output_type": "stream",
          "name": "stdout",
          "text": [
            "loading apple drawings\n",
            "load complete\n",
            "loading wine bottle drawings\n",
            "load complete\n",
            "loading spoon drawings\n",
            "load complete\n",
            "loading rainbow drawings\n",
            "load complete\n",
            "loading panda drawings\n",
            "load complete\n",
            "loading hospital drawings\n",
            "load complete\n",
            "loading scissors drawings\n",
            "load complete\n",
            "loading toothpaste drawings\n",
            "load complete\n",
            "loading baseball drawings\n",
            "load complete\n",
            "loading hourglass drawings\n",
            "load complete\n"
          ]
        }
      ]
    },
    {
      "cell_type": "code",
      "metadata": {
        "id": "YmhkezJwDq4W"
      },
      "source": [
        "# Misc\n",
        "\n",
        "class AverageMeter(object):\n",
        "  \"\"\"Computes and stores the average and current value\"\"\"\n",
        "  def __init__(self):\n",
        "      self.reset()\n",
        "\n",
        "  def reset(self):\n",
        "    self.val = 0\n",
        "    self.avg = 0\n",
        "    self.sum = 0\n",
        "    self.count = 0\n",
        "\n",
        "  def update(self, val, n=1):\n",
        "    self.val = val\n",
        "    self.sum += val * n\n",
        "    self.count += n\n",
        "    self.avg = self.sum / self.count"
      ],
      "execution_count": null,
      "outputs": []
    },
    {
      "cell_type": "markdown",
      "metadata": {
        "id": "FXZl8lZp_4CI"
      },
      "source": [
        "## Applying augmentations\n",
        "이제 아래 정의된 ***class QuickDrawDatset(Dataset)***를 생성하는 과정에서 직접 정의한 augmentation을 적용할 수 있게 해야합니다. 캠퍼 여러분이 수행하야 하는 과제 내용은 아래와 같습니다.\n",
        "\n",
        "- **TO DO (1-1)** : 다양한 패키지를 이용한 user-defined augmentation list를 적용해주세요. Image data augmentation을 위해 흔히 사용하는 패키지로는, *torchvision.transform*, *albumentation*, *imgaug*과 같은 패키지들이 있습니다. 다양한 패키지의 augmentation을 custom dataset에 직접 구현해보세요. 참고로, augmentation은 train dataset에만 적용하고 validation dataset에는 적용하지 않으시면 됩니다.\n",
        "\n",
        "- **Hint** : 과제 1의 baseline 코드는 *torchvision.transform*를 이용해 주어진 이미지를 학습에 사용하기 위해 (224, 224) 크기로 resize하고, numpy.ndarray에서 tensor로 변환하고 있습니다. 원활한 학습을 위해서는 augmentation을 적용한 이후 **Resize(), ToTensor()**와 같은 함수를 이용해 적절한 형태로 이미지를 변환해주어야 합니다."
      ]
    },
    {
      "cell_type": "code",
      "metadata": {
        "id": "veN_TBjQ-a-y"
      },
      "source": [
        "class QuickDrawDataset(Dataset):\n",
        "\n",
        "    def __init__(self, data, labels, transform=None):\n",
        "        self.data = data\n",
        "        self.labels = labels\n",
        "        self.transform = transform\n",
        "\n",
        "    def __len__(self):\n",
        "        return len(self.data)\n",
        "\n",
        "    def __getitem__(self, idx):\n",
        "        img = self.data[idx]\n",
        "        label = self.labels[idx]\n",
        "        if self.transform:\n",
        "          img = self.transform(img)\n",
        "        return img, label"
      ],
      "execution_count": null,
      "outputs": []
    },
    {
      "cell_type": "code",
      "source": [
        "from PIL import Image"
      ],
      "metadata": {
        "id": "qWlwyIkE4qTl"
      },
      "execution_count": null,
      "outputs": []
    },
    {
      "cell_type": "code",
      "source": [
        "rand_index = random.randint(0, len(train_data))\n",
        "print(class_list[train_label[10]])#rand_index]])\n",
        "train_data[10]#rand_index]\n"
      ],
      "metadata": {
        "colab": {
          "base_uri": "https://localhost:8080/",
          "height": 290
        },
        "id": "1ybmcgTQ4Wwc",
        "outputId": "e45e0ad0-4e09-479c-a8f3-70ef2831d417"
      },
      "execution_count": null,
      "outputs": [
        {
          "output_type": "stream",
          "name": "stdout",
          "text": [
            "apple\n"
          ]
        },
        {
          "output_type": "execute_result",
          "data": {
            "image/png": "[encoded data removed]",
            "text/plain": [
              "<PIL.Image.Image image mode=RGB size=255x255 at 0x7F35BBC732D0>"
            ]
          },
          "metadata": {},
          "execution_count": 49
        }
      ]
    },
    {
      "cell_type": "code",
      "metadata": {
        "id": "GOuZir1wI_Jd"
      },
      "source": [
        "# TO DO (1-1) starts here\n",
        "# Fill empty parts with proper code\n",
        "\n",
        "transform = transforms.Compose([\n",
        "    transforms.Resize((224,224)),\n",
        "    transforms.RandomHorizontalFlip(p=0.5),\n",
        "    transforms.RandomRotation(10),\n",
        "    # transforms.RandomAffine(degrees=(-1,1), scale=(-0.02,0.02), shear=(-0.02,0.02)),\n",
        "    transforms.ToTensor(),\n",
        "])"
      ],
      "execution_count": null,
      "outputs": []
    },
    {
      "cell_type": "code",
      "metadata": {
        "id": "7nT-0VJpaMVs"
      },
      "source": [
        "transform_val = transforms.Compose([\n",
        "    transforms.Resize((224,224)),\n",
        "    transforms.ToTensor(),\n",
        "])\n",
        "# TO DO (1-1) ends here"
      ],
      "execution_count": null,
      "outputs": []
    },
    {
      "cell_type": "code",
      "metadata": {
        "id": "T6ooe0ZYAIgP"
      },
      "source": [
        "qd_train_dataset = QuickDrawDataset(train_data, train_label, transform)\n",
        "qd_val_dataset = QuickDrawDataset(val_data, val_label, transform_val)\n",
        "\n",
        "qd_train_dataloader = DataLoader(qd_train_dataset, batch_size=64, shuffle=True)\n",
        "qd_val_dataloader = DataLoader(qd_val_dataset, batch_size=64, shuffle=True)"
      ],
      "execution_count": null,
      "outputs": []
    },
    {
      "cell_type": "markdown",
      "metadata": {
        "id": "x6CzndznBhwV"
      },
      "source": [
        "## Visualizing augmentated images\n",
        "다양한 augmentation을 적용한 이후에는, 원하는 augmentation이 잘 적용되고 있는지 확인해보는 과정이 필수적입니다. Augmentation 뿐만 아니라, Computer Vision의 다양한 모델들을 구현할 때는 모델의 input, output image나 중간 feature map을 시각화해보는 것이 아주 중요합니다. 이를 통해, 사소한 실수를 방지할 수 있을 뿐 아니라, loss로는 파악하기 힘든 모델의 성능 및 강점/약점을 파악할 수 있기 때문입니다.\n",
        "\n",
        "따라서, 이번에는 augmentation이 잘 적용되었는지 확인해보는 코드를 작성해야 합니다. \n",
        "\n",
        "- **TO DO (2-1)** : 직접 정의한 augmentation을 사용하느 qd_train_dataloader와 augmentation을 사용하지 않는 qd_val_dataloader의 이미지들을 직접 확인할 수 있는 코드를 작성해주세요.\n",
        "- **Hint 1** : *iter(), next()* 함수를 이용하면 dataloader에서 image 및 label을 반복적으로 추출할 수 있습니다. \n",
        "- **Hint 2** : 이미지의 channel order를 고려해야 합니다. cv2의 경우는 default channel order가 BGR인데 반해, PyTorch에서는 일반적으로 RGB order로 학습을 진행하는 경우가 많습니다. Quickdraw dataset의 경우 흑백 이미지라서 차이를 고려하지 않아도 괜찮지만, 컬러 이미지의 경우 이러한 차이가 큰 문제로 이어질 수 있습니다. 가령, RGB 이미지로 학습을 진행하고 *cv2.imread()*로 이미지를 불러와 그대로 model에 넣어주는 경우 모델이 아주 낮은 성능을 기록할 수 있습니다.\n",
        "- **Hint 3** : 각 dimension이 무엇을 나타내는지도 고려해야 합니다. cv2는 (height, width, channel) 순서로 이미지를 처리하지만, torch의 *conv2d* layer의 경우 (batch, channel, height, width) 순서의 tensor를 입력받습니다. 따라서, *permute()* 같은 함수를 통해 channel 순서를 바꿔주거나, *torch.squeeze(), torch.unsqueeze(), np.newaxis()*등을 dummy batch dimension을 생성/제거해주는 경우도 많이 있습니다.\n",
        "- **Hint 4** : 아직 이미지를 GPU에 올리지 않아 해당되지 않는 사항이지만, GPU에 올라간 이미지는 바로 *.cpu()*와 같은 함수를 통해 cpu에 올린 이후 ndarray로 변환해야 하는 경우도 있습니다. 또, gradient가 계산되는 경우는 *.detach()*와 같은 함수를 사용해야 할 수도 있습니다.\n",
        "\n",
        "이미지를 확인해보기 위해 위 힌트들이 모두 필요할 수도, 아닐 수도 있습니다. 본인이 augmentation을 구현한 방법을 잘 고려해서 본인의 방식대로 이미지를 확인해보면 됩니다. 다만, 위 힌트들은 일반적으로 확인해야 하는 경우가 많기 때문에 관련 내용을 확인해보시는 것을 추천드립니다."
      ]
    },
    {
      "cell_type": "code",
      "metadata": {
        "id": "26i_g0vQ-wuK",
        "colab": {
          "base_uri": "https://localhost:8080/"
        },
        "outputId": "c8794d55-5ebd-4d68-f7a3-2a1edaccc6bb"
      },
      "source": [
        "# TO DO (2-1) starts here\n",
        "# Fill empty parts with proper code\n",
        "img, label = next(iter(qd_train_dataloader))\n",
        "img[0].shape"
      ],
      "execution_count": null,
      "outputs": [
        {
          "output_type": "execute_result",
          "data": {
            "text/plain": [
              "torch.Size([3, 224, 224])"
            ]
          },
          "metadata": {},
          "execution_count": 41
        }
      ]
    },
    {
      "cell_type": "code",
      "source": [
        "import cv2\n",
        "import copy\n",
        "import matplotlib.pyplot as plt"
      ],
      "metadata": {
        "id": "WmM_oO-wTJiP"
      },
      "execution_count": null,
      "outputs": []
    },
    {
      "cell_type": "code",
      "source": [
        "idx = 10\n",
        "print(class_list[label[idx].item()])\n",
        "plt.imshow(img[idx].permute(1,2,0))"
      ],
      "metadata": {
        "colab": {
          "base_uri": "https://localhost:8080/",
          "height": 306
        },
        "id": "1r2N04b67tWU",
        "outputId": "afceb8d3-cdbc-4fe1-9432-f23c85f9a8cd"
      },
      "execution_count": null,
      "outputs": [
        {
          "output_type": "stream",
          "name": "stdout",
          "text": [
            "apple\n"
          ]
        },
        {
          "output_type": "execute_result",
          "data": {
            "text/plain": [
              "<matplotlib.image.AxesImage at 0x7f35bb6e0c10>"
            ]
          },
          "metadata": {},
          "execution_count": 47
        },
        {
          "output_type": "display_data",
          "data": {
            "image/png": "[encoded data removed]",
            "text/plain": [
              "<Figure size 432x288 with 1 Axes>"
            ]
          },
          "metadata": {
            "needs_background": "light"
          }
        }
      ]
    },
    {
      "cell_type": "code",
      "metadata": {
        "colab": {
          "base_uri": "https://localhost:8080/",
          "height": 287
        },
        "id": "ej376Vfy-84f",
        "outputId": "037e3874-388f-4af5-847d-6c652a1c7988"
      },
      "source": [
        "visualized_img = img[10].detach().cpu().numpy()\n",
        "visualized_img = np.transpose(visualized_img, (1,2,0))\n",
        "visualized_img = cv2.cvtColor(visualized_img,cv2.COLOR_BGR2RGB)\n",
        "# visualized_img = visualized_img.astype(np.uint8).copy()\n",
        "# TO DO (2-1) ends here\n",
        "print(class_list[label[10]])\n",
        "plt.imshow(visualized_img)\n",
        "plt.show()"
      ],
      "execution_count": null,
      "outputs": [
        {
          "output_type": "stream",
          "name": "stdout",
          "text": [
            "apple\n"
          ]
        },
        {
          "output_type": "display_data",
          "data": {
            "image/png": "[encoded data removed]",
            "text/plain": [
              "<Figure size 432x288 with 1 Axes>"
            ]
          },
          "metadata": {
            "needs_background": "light"
          }
        }
      ]
    },
    {
      "cell_type": "markdown",
      "metadata": {
        "id": "f-M2Mcd5FJWZ"
      },
      "source": [
        "## Training VGG-11 with augmented images\n",
        "이제 augmentation을 적용한 이미지들을 이용해 VGG-11 model을 다시 학습해봅니다. Augmetation을 적용한 경우와 그렇지 않은 경우, 학습이 어떻게 진행되는지 확인해보세요. 단순히 augmentation을 이것저것 적용해보면서 그 중 loss가 가장 낮게 나온 것을 고르는 것 보다는 결과가 좋아졌다면 왜 좋아졌는지, 나빠졌다면 왜 나빠졌는지 나름의 이유를 고민해보시는 것이 중요합니다. 또, 필요한 경우에 loss 그래프만 보는 것 대신 위에서 해본 것 처럼 model의 output을 직접 확인해보면서, 어떤 경우에 model이 더 좋아지거나 나빠졌는지 확인해보세요."
      ]
    },
    {
      "cell_type": "code",
      "metadata": {
        "colab": {
          "base_uri": "https://localhost:8080/"
        },
        "id": "UMqSkZF9ERRR",
        "outputId": "bfbf572a-690b-4b75-d914-ba48927a4029"
      },
      "source": [
        "from torchvision.models import vgg11\n",
        "\n",
        "pretrained = True # True of False\n",
        "\n",
        "model = vgg11(pretrained)\n",
        "model.classifier[6] = nn.Linear(in_features=4096, out_features=10, bias=True)\n",
        "model.cuda()\n",
        "\n",
        "# Freeze the feature extracting convolution layers"
      ],
      "execution_count": null,
      "outputs": [
        {
          "output_type": "execute_result",
          "data": {
            "text/plain": [
              "VGG(\n",
              "  (features): Sequential(\n",
              "    (0): Conv2d(3, 64, kernel_size=(3, 3), stride=(1, 1), padding=(1, 1))\n",
              "    (1): ReLU(inplace=True)\n",
              "    (2): MaxPool2d(kernel_size=2, stride=2, padding=0, dilation=1, ceil_mode=False)\n",
              "    (3): Conv2d(64, 128, kernel_size=(3, 3), stride=(1, 1), padding=(1, 1))\n",
              "    (4): ReLU(inplace=True)\n",
              "    (5): MaxPool2d(kernel_size=2, stride=2, padding=0, dilation=1, ceil_mode=False)\n",
              "    (6): Conv2d(128, 256, kernel_size=(3, 3), stride=(1, 1), padding=(1, 1))\n",
              "    (7): ReLU(inplace=True)\n",
              "    (8): Conv2d(256, 256, kernel_size=(3, 3), stride=(1, 1), padding=(1, 1))\n",
              "    (9): ReLU(inplace=True)\n",
              "    (10): MaxPool2d(kernel_size=2, stride=2, padding=0, dilation=1, ceil_mode=False)\n",
              "    (11): Conv2d(256, 512, kernel_size=(3, 3), stride=(1, 1), padding=(1, 1))\n",
              "    (12): ReLU(inplace=True)\n",
              "    (13): Conv2d(512, 512, kernel_size=(3, 3), stride=(1, 1), padding=(1, 1))\n",
              "    (14): ReLU(inplace=True)\n",
              "    (15): MaxPool2d(kernel_size=2, stride=2, padding=0, dilation=1, ceil_mode=False)\n",
              "    (16): Conv2d(512, 512, kernel_size=(3, 3), stride=(1, 1), padding=(1, 1))\n",
              "    (17): ReLU(inplace=True)\n",
              "    (18): Conv2d(512, 512, kernel_size=(3, 3), stride=(1, 1), padding=(1, 1))\n",
              "    (19): ReLU(inplace=True)\n",
              "    (20): MaxPool2d(kernel_size=2, stride=2, padding=0, dilation=1, ceil_mode=False)\n",
              "  )\n",
              "  (avgpool): AdaptiveAvgPool2d(output_size=(7, 7))\n",
              "  (classifier): Sequential(\n",
              "    (0): Linear(in_features=25088, out_features=4096, bias=True)\n",
              "    (1): ReLU(inplace=True)\n",
              "    (2): Dropout(p=0.5, inplace=False)\n",
              "    (3): Linear(in_features=4096, out_features=4096, bias=True)\n",
              "    (4): ReLU(inplace=True)\n",
              "    (5): Dropout(p=0.5, inplace=False)\n",
              "    (6): Linear(in_features=4096, out_features=10, bias=True)\n",
              "  )\n",
              ")"
            ]
          },
          "metadata": {},
          "execution_count": 50
        }
      ]
    },
    {
      "cell_type": "code",
      "metadata": {
        "id": "CKZTQB1kH1Dh"
      },
      "source": [
        "log_dir ='./log'"
      ],
      "execution_count": null,
      "outputs": []
    },
    {
      "cell_type": "code",
      "metadata": {
        "id": "f9WrU6AfVdyi"
      },
      "source": [
        "# Loss function and Optimizer\n",
        "from torch.optim import Adam\n",
        "\n",
        "criterion = nn.CrossEntropyLoss()\n",
        "optimizer_ft = Adam(model.parameters(), lr=1e-4)"
      ],
      "execution_count": null,
      "outputs": []
    },
    {
      "cell_type": "code",
      "source": [
        "from tqdm import tqdm"
      ],
      "metadata": {
        "id": "a6nGW06DXvmr"
      },
      "execution_count": null,
      "outputs": []
    },
    {
      "cell_type": "code",
      "metadata": {
        "colab": {
          "base_uri": "https://localhost:8080/"
        },
        "id": "zA8Kwg4MHfjE",
        "outputId": "c944eb9f-0f0d-4fab-9cdc-e1e8f1210118"
      },
      "source": [
        "# Main\n",
        "os.makedirs(log_dir, exist_ok=True)\n",
        "\n",
        "with open(os.path.join(log_dir, 'augmentation_train_log.csv'), 'w') as log:\n",
        "  # Training\n",
        "  model.train()\n",
        "  for iteration, data in enumerate(tqdm(qd_train_dataloader)):\n",
        "    img, label = data[0],data[1]\n",
        "    # optimizer에 저장된 미분값을 0으로 초기화\n",
        "    optimizer_ft.zero_grad()\n",
        "\n",
        "    # GPU 연산을 위해 이미지와 정답 tensor를 GPU로 보내기 (필요한 경우, 변수의 type도 수정해주세요)\n",
        "    img, label = img.float().cuda(), label.long().cuda()\n",
        "  \n",
        "    # 모델에 이미지 forward\n",
        "    pred_logit = model(img)\n",
        "\n",
        "    # loss 값 계산\n",
        "    loss = criterion(pred_logit, label)\n",
        "\n",
        "    # Backpropagation\n",
        "    loss.backward()\n",
        "    optimizer_ft.step()\n",
        "\n",
        "    # Accuracy 계산\n",
        "    pred_label = torch.argmax(pred_logit, 1)\n",
        "    acc = (pred_label == label).sum().item() / len(img) #.item() 토치를 인트로 바꿔줌\n",
        "\n",
        "    train_loss = loss.item()\n",
        "    train_acc = acc\n",
        "\n",
        "    # Validation for every 20 epoch ### -> epoch이 아니라 loader에서 배치단위로 가져오는 횟수를 의미하는 것은 아닌지?\n",
        "    if (iteration % 20 == 0) or (iteration == len(qd_train_dataloader)-1):\n",
        "      model.eval()\n",
        "      valid_loss, valid_acc = AverageMeter(), AverageMeter()\n",
        "\n",
        "      for img, label in qd_val_dataloader:\n",
        "        # GPU 연산을 위해 이미지와 정답 tensor를 GPU로 보내기 (필요한 경우, 변수의 type도 수정해주세요)\n",
        "        img, label = img.float().cuda(), label.long().cuda()\n",
        "\n",
        "        # 모델에 이미지 forward (gradient 계산 X)\n",
        "        with torch.no_grad():\n",
        "          pred_logit = model(img)\n",
        "\n",
        "        # loss 값 계산\n",
        "        loss = criterion(pred_logit, label)\n",
        "\n",
        "        # Accuracy 계산\n",
        "        pred_label = torch.argmax(pred_logit, 1)\n",
        "        acc = (pred_label == label).sum().item() / len(img)\n",
        "        valid_loss.update(loss.item(), len(img))\n",
        "        valid_acc.update(acc, len(img))\n",
        "\n",
        "      valid_loss = valid_loss.avg\n",
        "      valid_acc = valid_acc.avg\n",
        "\n",
        "      print(\"Iter [%3d/%3d] | Train Loss %.4f | Train Acc %.4f | Valid Loss %.4f | Valid Acc %.4f\" %\n",
        "            (iteration, len(qd_train_dataloader), train_loss, train_acc, valid_loss, valid_acc))\n",
        "      \n",
        "      # Train Log Writing\n",
        "      log.write('%d,%.4f,%.4f,%.4f,%.4f\\n'%(iteration, train_loss, train_acc, valid_loss, valid_acc))"
      ],
      "execution_count": null,
      "outputs": [
        {
          "output_type": "stream",
          "name": "stderr",
          "text": [
            "  2%|▏         | 1/43 [00:06<04:26,  6.35s/it]"
          ]
        },
        {
          "output_type": "stream",
          "name": "stdout",
          "text": [
            "Iter [  0/ 43] | Train Loss 0.0492 | Train Acc 0.9844 | Valid Loss 0.3411 | Valid Acc 0.8900\n"
          ]
        },
        {
          "output_type": "stream",
          "name": "stderr",
          "text": [
            " 49%|████▉     | 21/43 [00:58<01:18,  3.59s/it]"
          ]
        },
        {
          "output_type": "stream",
          "name": "stdout",
          "text": [
            "Iter [ 20/ 43] | Train Loss 0.0858 | Train Acc 0.9688 | Valid Loss 0.3863 | Valid Acc 0.9200\n"
          ]
        },
        {
          "output_type": "stream",
          "name": "stderr",
          "text": [
            " 95%|█████████▌| 41/43 [01:51<00:07,  3.57s/it]"
          ]
        },
        {
          "output_type": "stream",
          "name": "stdout",
          "text": [
            "Iter [ 40/ 43] | Train Loss 0.0780 | Train Acc 0.9688 | Valid Loss 0.3508 | Valid Acc 0.9300\n"
          ]
        },
        {
          "output_type": "stream",
          "name": "stderr",
          "text": [
            "100%|██████████| 43/43 [01:57<00:00,  2.74s/it]"
          ]
        },
        {
          "output_type": "stream",
          "name": "stdout",
          "text": [
            "Iter [ 42/ 43] | Train Loss 0.3562 | Train Acc 0.9167 | Valid Loss 0.3695 | Valid Acc 0.9167\n"
          ]
        },
        {
          "output_type": "stream",
          "name": "stderr",
          "text": [
            "\n"
          ]
        }
      ]
    },
    {
      "cell_type": "code",
      "metadata": {
        "colab": {
          "base_uri": "https://localhost:8080/",
          "height": 311
        },
        "id": "9CVsDSnrO4VL",
        "outputId": "89b76307-919d-40cd-932f-c16c2da47296"
      },
      "source": [
        "# Visualize training log\n",
        "augmentation_train_log = pd.read_csv(os.path.join(log_dir, 'augmentation_train_log.csv'), index_col=0, header=None)\n",
        "fig, ax = plt.subplots()\n",
        "ax.plot(augmentation_train_log.iloc[:,0], label='Training with augmentation')\n",
        "ax.set_xlabel('Iteration', fontsize=15)\n",
        "ax.set_ylabel('Loss', fontsize=15)\n",
        "\n",
        "fig.legend(fontsize=15)\n",
        "\n",
        "plt.show()"
      ],
      "execution_count": null,
      "outputs": [
        {
          "output_type": "display_data",
          "data": {
            "image/png": "[encoded data removed]",
            "text/plain": [
              "<Figure size 432x288 with 1 Axes>"
            ]
          },
          "metadata": {
            "needs_background": "light"
          }
        }
      ]
    },
    {
      "cell_type": "code",
      "source": [
        "img, label = next(iter(qd_train_dataloader))\n",
        "img[0].shape\n",
        "idx = 10\n",
        "print(class_list[label[idx].item()])\n",
        "plt.imshow(img[idx].permute(1,2,0))"
      ],
      "metadata": {
        "colab": {
          "base_uri": "https://localhost:8080/",
          "height": 306
        },
        "id": "vJaxeQtmddoP",
        "outputId": "935bca6c-d21d-4854-e16c-611ada6795df"
      },
      "execution_count": null,
      "outputs": [
        {
          "output_type": "stream",
          "name": "stdout",
          "text": [
            "scissors\n"
          ]
        },
        {
          "output_type": "execute_result",
          "data": {
            "text/plain": [
              "<matplotlib.image.AxesImage at 0x7f35b66d5bd0>"
            ]
          },
          "metadata": {},
          "execution_count": 85
        },
        {
          "output_type": "display_data",
          "data": {
            "image/png": "[encoded data removed]",
            "text/plain": [
              "<Figure size 432x288 with 1 Axes>"
            ]
          },
          "metadata": {
            "needs_background": "light"
          }
        }
      ]
    },
    {
      "cell_type": "markdown",
      "metadata": {
        "id": "P59NogT7GPDR"
      },
      "source": [
        "## Some other methods to improve model performance\n",
        "Augmentation을 적용한 모델의 결과가 더 좋아졌나요? 성능이 향상되었다면 축하드리며, 성능이 좋아지지 않거나 오히려 나빠졌더라도 괜찮습니다. 중요한 것은 augmentation으로 이 과제 코드에서 성능을 얼마나 올렸는지가 아니라, 다음에 다른 dataset, 다른 model로 학습을 진행할 때 필요한 augmentation을 생각해낼 수 있는 나름의 성공/실패 경험과 이유를 만드는 것이기 때문입니다.\n",
        "\n",
        "데이터의 특성 및 모델의 특성을 반영할 수 있는 몇가지 추가 질문들입니다. 아래 질문들에 대해 나름의 답을 생각해보시고, 직접 실험해보면서 다음에 새로운 데이터셋과 모델을 만난다면 어떤 augmentation을 왜 적용해야 할지, 나름대로의 이유를 생각해보시고, 실험해보시고, 다른 캠퍼분들과 토의해보세요.\n",
        "\n",
        "1. Quickdraw dataset은 상당히 얇은 선의 이미지들로 이루어졌습니다. 이런 경우, blur augmentation을 적용해 이미지를 넓게 만들어주는 것이 성능 향상에 도움이 될 수 있습니다. 왜 blur augmentation이 모델 성능 향상에 도움이 되는지 생각해보세요. Hint) 이미지가 얇은 선으로 이루어져 있다는 것은 빈 공간이 많다는 뜻이고, 이는 곧 layer의 input으로 0이 상당히 많이 들어간다는 뜻입니다.\n",
        "\n",
        "2. Augmentation의 효과를 더욱 크게 하기 위해서는, 구현의 편의를 위해 (224, 224)로 image를 resize하는 대신 훨씬 작은 원본 이미지 크기를 사용하는 것이 좋을 수 있습니다. 위 blur augmentation이 (224,224)에서 효과가 적은 이유에 대해서 고민해보세요. Hint) CNN의 convolution filter 의 사이즈와 연관이 있습니다.\n",
        "\n",
        "3. Augmentation의 순서 역시 중요한 요소가 될 수 있습니다. Blur를 먼저 적용하고 크게 resize하는 경우와 resize를 먼저 하고 blur를 적용하는 경우, 이미지가 어떻게 달라질지 예상해보시고, 실제 augmentation package에 따라 결과가 어떻게 나타나는지도 확인해보세요. 그리고 Geometric augmentation의 경우에 대해서도 순서가 어떻게 영향을 미칠지 생각해보세요. \n",
        "\n",
        "4. Augmentation을 적용했음에도, convolution layers를 고정하고 linear classifier만 새로 학습하는 fine-tuning을 수행하면 augmentation의 효과가 떨어질 수 있습니다. 그 이유에 대해 생각해보세요.\n",
        "\n",
        "**TO DO (3-1)** : 위 further question에 대해 고민해보고, 직접 실험해보며 결과를 확인해보세요. "
      ]
    },
    {
      "cell_type": "code",
      "source": [
        ""
      ],
      "metadata": {
        "id": "U7DejpF3BIje"
      },
      "execution_count": null,
      "outputs": []
    }
  ]
}